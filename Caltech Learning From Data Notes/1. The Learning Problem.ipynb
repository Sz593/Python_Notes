{
 "cells": [
  {
   "cell_type": "markdown",
   "metadata": {},
   "source": [
    "# The Learning Problem\n",
    "\n",
    "### Table of Contents\n",
    "1. [Example](#Example)\n",
    "\n",
    "\n",
    "### Example\n",
    "[[back to top]](#Table-of-Contents)\n",
    "\n",
    "How do people rate movies? Why do we need machine learning, and what does machine learning require?\n",
    "- A pattern exists\n",
    "- We can't pin it down mathematically (you can't write a polynomial to determine how people will rate movies)\n",
    "- We must have data"
   ]
  },
  {
   "cell_type": "code",
   "execution_count": null,
   "metadata": {
    "collapsed": true
   },
   "outputs": [],
   "source": []
  }
 ],
 "metadata": {
  "kernelspec": {
   "display_name": "Python 3",
   "language": "python",
   "name": "python3"
  },
  "language_info": {
   "codemirror_mode": {
    "name": "ipython",
    "version": 3
   },
   "file_extension": ".py",
   "mimetype": "text/x-python",
   "name": "python",
   "nbconvert_exporter": "python",
   "pygments_lexer": "ipython3",
   "version": "3.5.1"
  }
 },
 "nbformat": 4,
 "nbformat_minor": 0
}
