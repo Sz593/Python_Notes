{
 "cells": [
  {
   "cell_type": "markdown",
   "metadata": {},
   "source": [
    "# Algorithms in Python Notes\n",
    "\n",
    "\n",
    "### Table of Contents\n",
    "1. [Efficiency](#Efficiency)\n",
    "2. [Linked Lists](#Linked-Lists)\n",
    "3. [Stacks & Queues](#Stacks-&-Queues)\n",
    "4. [Binary Search](#Binary-Search)\n",
    "5. [Recursion](#Recursion)\n",
    "6. [Sorting](#Sorting)\n",
    "7. [Maps](#Maps)\n",
    "8. [Hashing](#Hashing)\n",
    "9. [Trees](#Trees)\n",
    "  1. [Terminology](#Terminology-Used-in-Trees)\n",
    "  2. [Tree Traversal](#Tree-Traversal)\n",
    "  3. [Binary Trees](#Binary-Trees)\n",
    "  4. [Binary Search Trees](#Binary-Search-Trees)\n",
    "10. [Heaps](#Heaps)\n",
    "11. [Graphs](#Graphs)"
   ]
  },
  {
   "cell_type": "markdown",
   "metadata": {},
   "source": [
    "### Efficiency\n",
    "[[back to top]](#Table-of-Contents)      \n",
    "[[Wikipedia: Algorithmic Efficiency]](https://en.wikipedia.org/wiki/Algorithmic_efficiency) \n",
    "[[Python Wiki - Time Complexity]](https://wiki.python.org/moin/TimeComplexity) \n",
    "[[Big O Cheatsheet]](http://bigocheatsheet.com/) \n",
    "\n",
    "In computer science, algorithmic efficiency are the properties of an algorithm which relate to the amount of computational resources used by the algorithm. An algorithm must be analysed to determine its resource usage. Algorithmic efficiency can be thought of as analogous to engineering productivity for a repeating or continuous process.\n",
    "\n",
    "For maximum efficiency we wish to minimize resource usage. However, the various resources (e.g. time, space) cannot be compared directly, so which of two algorithms is considered to be more efficient often depends on which measure of efficiency is considered the most important, e.g. the requirement for high speed, minimum memory usage or some other measure of performance.\n",
    "\n",
    "##### Theoretical Analysis\n",
    "In the theoretical analysis of algorithms, the normal practice is to estimate their complexity in the asymptotic sense, i.e. use Big O notation to represent the complexity of an algorithm as a function of the size of the input $n$. This is generally sufficiently accurate when $n$ is large, but may be misleading for small values of $n$ (e.g. bubble sort may be faster than quicksort when only a few items are to be sorted).\n",
    "\n",
    "Some examples of Big O notation include:\n",
    "\n",
    "Big O Notation | Name | Examples\n",
    "--|--|--\n",
    "$O(1)$ | Constant | Determining if a number is even or odd; Using a constant-size <br> lookup table; Using a suitable hash function for looking up an item.\n",
    "$O(log n)$ | Logarithmic | Finding an item in a sorted array with a binary search or a <br> balanced search tree as well as all operations in a Binomial heap.\n",
    "$O(n)$ | Linear | Finding an item in an unsorted list or a malformed tree (worst case) <br> or in an unsorted array; Adding two n-bit integers by ripple carry.\n",
    "$O(n\\log n) $ | Linearithmic, loglinear, <br> or quasilinear | Performing a Fast Fourier transform; heapsort, quicksort (best <br> and average case), or merge sort.\n",
    "$O(n^2)$ | Quadratic | Multiplying two n-digit numbers by a simple algorithm; bubble sort <br> (worst case or naive implementation), Shell sort, quicksort (worst <br> case), selection sort or insertion sort.\n",
    "$O(c^n), c > 1$ | Exponential | Finding the (exact) solution to the travelling salesman problem <br> using dynamic programming; determining if two <br> logical statements are equivalent using brute-force search.\n",
    "\n",
    "\n",
    "##### Udacity Example\n",
    "input manatees: a list of \"manatees\", where one manatee is represented by a dictionary a single manatee has properties like \"name\", \"age\", etc.\n",
    "\n",
    "n = the number of elements in \"manatees\"\n",
    "m = the number of properties per \"manatee\" (i.e. the number of keys in a manatee dictionary)\n"
   ]
  },
  {
   "cell_type": "code",
   "execution_count": null,
   "metadata": {
    "collapsed": true
   },
   "outputs": [],
   "source": [
    "def example1(manatees):\n",
    "    for manatee in manatees:\n",
    "        print(manatee['name'])\n",
    "\n",
    "def example2(manatees):\n",
    "    print(manatees[0]['name'])\n",
    "    print(manatees[0]['age'])\n",
    "\n",
    "def example3(manatees):\n",
    "    for manatee in manatees:\n",
    "        for manatee_property in manatee:\n",
    "            print(manatee_property, \": \", manatee[manatee_property])\n",
    "\n",
    "def example4(manatees):\n",
    "    oldest_manatee = \"No manatees here!\"\n",
    "    for manatee1 in manatees:\n",
    "        for manatee2 in manatees:\n",
    "            if manatee1['age'] < manatee2['age']:\n",
    "                oldest_manatee = manatee2['name']\n",
    "            else:\n",
    "                oldest_manatee = manatee1['name']\n",
    "    print(oldest_manatee)"
   ]
  },
  {
   "cell_type": "markdown",
   "metadata": {},
   "source": [
    "1. **Example 1:** We iterate over every manatee in the manatees list with the for loop. Since we're given that manatees has n elements, our code will take approximately O(n) time to run.\n",
    "\n",
    "2. **Example 2:** We look at two specific properties of a specific manatee. We aren't iterating over anything - just doing constant-time lookups on lists and dictionaries. Thus the code will complete in constant, or O(1), time.\n",
    "\n",
    "3. **Example 3:** There are two for loops, and nested for loops are a good sign that you need to multiply two runtimes. Here, for every manatee, we check every property. If we had 4 manatees, each with 5 properties, then we would need 5+5+5+5 steps. This logic simplifies to the number of manatees times the number of properties, or O(nm).\n",
    "\n",
    "4. **Example 4:** Again we have nested for loops. This time we're iterating over the manatees list twice - every time we see a manatee, we compare it to every other manatee's age. We end up with O(nn), or O(n^2) (which is read as \"n squared\")."
   ]
  },
  {
   "cell_type": "markdown",
   "metadata": {},
   "source": [
    "### Linked Lists\n",
    "[[back to top]](#Table-of-Contents)  \n",
    "[[Wikipedia: Linked Lists]](https://en.wikipedia.org/wiki/Linked_list)\n",
    "\n",
    "In computer science, a linked list is a linear collection of data elements, called nodes pointing to the next node by means of a pointer. It is a data structure consisting of a group of nodes which together represent a sequence. Under the simplest form, each node is composed of data and a reference (in other words, a link) to the next node in the sequence; more complex variants add additional links. This structure allows for efficient insertion or removal of elements from any position in the sequence.\n",
    "\n",
    "Linked lists are among the simplest and most common data structures. They can be used to implement several other common abstract data types, including lists (the abstract data type), stacks, queues, associative arrays, and S-expressions, though it is not uncommon to implement the other data structures directly without using a list as the basis of implementation.\n",
    "\n",
    "The principal benefit of a linked list over a conventional array is that the list elements can easily be inserted or removed without reallocation or reorganization of the entire structure because the data items need not be stored contiguously in memory or on disk, while an array has to be declared in the source code, before compiling and running the program. Linked lists allow insertion and removal of nodes at any point in the list, and can do so with a constant number of operations if the link previous to the link being added or removed is maintained during list traversal.\n",
    "\n",
    "On the other hand, simple linked lists by themselves do not allow random access to the data, or any form of efficient indexing. Thus, many basic operations — such as obtaining the last node of the list (assuming that the last node is not maintained as separate node reference in the list structure), or finding a node that contains a given datum, or locating the place where a new node should be inserted — may require sequential scanning of most or all of the list elements. The advantages and disadvantages of using linked lists are given below.\n",
    "\n",
    "There isn't a built-in data structure in Python that looks like a linked list. Thankfully, it's easy to make classes that represent data structures in Python! \n",
    "\n",
    "Here's the code for an Element, which will be a single unit in a linked list:"
   ]
  },
  {
   "cell_type": "code",
   "execution_count": 4,
   "metadata": {
    "collapsed": true
   },
   "outputs": [],
   "source": [
    "class Element(object):\n",
    "    def __init__(self, value):\n",
    "        self.value = value\n",
    "        self.next = None"
   ]
  },
  {
   "cell_type": "markdown",
   "metadata": {},
   "source": [
    "Make sure you understand this code before moving on! We use `__init__` to initialize a new Element. An Element has some value associated with it (which could be anything—a number, a string, a character, et cetera), and it has a variable that points to the next element in the linked list. \n",
    "\n",
    "Now, let's set up a LinkedList class:"
   ]
  },
  {
   "cell_type": "code",
   "execution_count": 5,
   "metadata": {
    "collapsed": true
   },
   "outputs": [],
   "source": [
    "class LinkedList(object):\n",
    "    def __init__(self, head=None):\n",
    "        self.head = head"
   ]
  },
  {
   "cell_type": "markdown",
   "metadata": {},
   "source": [
    "This code is very similar—we're just establishing that a LinkedList is something that has a head Element, which is the first element in the list. If we establish a new LinkedList without a head, it will default to None. \n",
    "\n",
    "Great! Let's add a method to our LinkedList to make it a little more useful. This method will add a new Element to the end of our LinkedList."
   ]
  },
  {
   "cell_type": "code",
   "execution_count": 6,
   "metadata": {
    "collapsed": true
   },
   "outputs": [],
   "source": [
    "def append(self, new_element):\n",
    "    current = self.head\n",
    "    if self.head:\n",
    "        while current.next:\n",
    "            current = current.next\n",
    "        current.next = new_element\n",
    "    else:\n",
    "        self.head = new_element"
   ]
  },
  {
   "cell_type": "markdown",
   "metadata": {},
   "source": [
    "Again, this part is really important, so don't rush through it. Take the code line-by-line and make sure everything makes sense. If the LinkedList already has a head, iterate through the next reference in every Element until you reach the end of the list. Set next for the end of the list to be the new_element. Alternatively, if there is no head already, you should just assign new_element to it and do nothing else."
   ]
  },
  {
   "cell_type": "markdown",
   "metadata": {},
   "source": [
    "### Stacks & Queues - Need to update!\n",
    "[[back to top]](#Table-of-Contents)\n",
    "\n",
    "Stack - First In, Last Out (FILO)\n",
    "- Add to stack - push\n",
    "- Remove from stack (get last element) - pop\n",
    "\t\n",
    "Queue - First In, First Out (FIFO)\n",
    "- Get in the back of the queue - enqueue (getting in line to pay for groceries)\n",
    "- Remove from the front of the queue - dequeue (paying for your groceries then leaving)\n",
    "- Peek at the first element - peek (seeing who's first in line)\n",
    "\n",
    "Deque - A special two-sided queue\n",
    "- You can enqueue or dequeue from either end\n",
    "- Kind of a generalized version of a queue and stack\n",
    "\n",
    "Priority Queue - Each element is assigned a numerical priority\n",
    "- Dequeue - remove element with highest priority. If two elements have the same priority, the oldest element gets dequeued first"
   ]
  },
  {
   "cell_type": "markdown",
   "metadata": {},
   "source": [
    "### Binary Search\n",
    "[[back to top]](#Table-of-Contents)  \n",
    "[[Wikipedia: Binary Search Algorithm]](https://en.wikipedia.org/wiki/Binary_search_algorithm)\n",
    "\n",
    "If you have an ordered array, searching by starting at the beginning and counting up (or end and counting down) can take $O(n)$. \n",
    "\n",
    "In a binary search, we cut the list in half, and figure out if our number is bigger or smaller than the middle number. Then we do the same thing with the half of the original list that we chose. Repeat until you find your number, or determine that it isn't present. \n",
    "\n",
    "In a binary search, the efficiency goes up every time the array size increases by an exponent of two. For example:\n",
    "\n",
    "Array Size|$0$|$1$|$2$|$3$|$4$|$5$|$6$|$7$|$8$\n",
    "--|--|--|--|--|--|--|--|--|--\n",
    "Iterations|$0$|$1$|$2$|$2$|$3$|$3$|$3$|$3$|$4$\n",
    "Efficiency|$0$|$2^0$|$2^1$|$2^1$|$2^2$|$2^2$|$2^2$|$2^2$|$2^3$\n",
    "\n",
    "\n",
    "So the efficiency is $2^{(k-1)}$, where $k$ is the number of iterations. We can use logarithms to write this easier. Take an array of size $8$, then $8 = 2^3$, so we can write $\\log_2 8 = 3$, since in Comp. Sci. you can assume logs have base 2. So our final efficiency is $O(log(n))$.\n",
    "\n",
    "Searches and sorts can be very hard to visualize and understand. If you need, go through the video a few more times until it really sinks in. [Here](http://www.cs.armstrong.edu/liang/animation/web/BinarySearch.html) is a supplementary visualization that might help.\n",
    "\n",
    "Python lists have a method called `index()`, which just does a search and returns the first index with an instance of that value. Next, you're going to write a binary search function that has the same result, but searches faster. Keep in mind the constraint for this exercise—for binary search, elements need to be in increasing order.\n",
    "\n",
    "[Here](https://www.cs.usfca.edu/~galles/visualization/Search.html) is another visualization of binary search. "
   ]
  },
  {
   "cell_type": "code",
   "execution_count": 19,
   "metadata": {
    "collapsed": true
   },
   "outputs": [],
   "source": [
    "def binarySearch(listData, value):\n",
    "    \n",
    "    low = listData[0]\n",
    "    high = listData[len(listData) - 1]\n",
    "    \n",
    "    while low <= high:\n",
    "        print('Loop start')\n",
    "        \n",
    "        mid = (low + high) // 2\n",
    "        print('low = ' + str(low), '\\t high = ' + str(high) , '\\t mid = ' + str(mid), '\\t value = ' + str(value))\n",
    "        \n",
    "        if listData[mid] == value:\n",
    "            return mid\n",
    "        elif listData[mid] < value:\n",
    "            low = mid + 1\n",
    "        else:\n",
    "            high = mid - 1\n",
    "        \n",
    "        print('low = ' + str(low), '\\t high = ' + str(high) , '\\t mid = ' + str(mid), '\\t value = ' + str(value))\n",
    "        print('Loop end\\n\\n')\n",
    "    \n",
    "    return -1"
   ]
  },
  {
   "cell_type": "code",
   "execution_count": 31,
   "metadata": {
    "collapsed": true
   },
   "outputs": [],
   "source": [
    "import bisect\n",
    "\n",
    "def binary_search(a, x, lo=0, hi=None):          # can't use a to specify default for hi\n",
    "    hi = hi if hi is not None else len(a)        # hi defaults to len(a)   \n",
    "    pos = bisect.bisect_left(a,x,lo,hi)          # find insertion position\n",
    "    return (pos if pos != hi and a[pos] == x else -1) # don't walk off the end"
   ]
  },
  {
   "cell_type": "code",
   "execution_count": 34,
   "metadata": {
    "collapsed": false
   },
   "outputs": [
    {
     "data": {
      "text/plain": [
       "7"
      ]
     },
     "execution_count": 34,
     "metadata": {},
     "output_type": "execute_result"
    }
   ],
   "source": [
    "# binarySearch([1, 2, 3, 4, 5, 6, 7, 8], 10)\n",
    "binary_search([1, 2, 3, 4, 5, 6, 7, 8], 8)"
   ]
  },
  {
   "cell_type": "markdown",
   "metadata": {
    "collapsed": true
   },
   "source": [
    "### Recursion\n",
    "[[back to top]](#Table-of-Contents)  \n",
    "[[Wikipedia: Recursion (Computer Science]](https://en.wikipedia.org/wiki/Recursion_(computer_science))\n",
    "\n",
    "In mathematics and computer science, a class of objects or methods exhibit recursive behavior when they can be defined by two properties:\n",
    "\n",
    "1. A simple base case (or cases)—a terminating scenario that does not use recursion to produce an answer\n",
    "2. A set of rules that reduce all other cases toward the base case.\n",
    "\n",
    "The Fibonacci sequence is a classic example of recursion:\n",
    "\n",
    "$\\text{Fib}(0)=0\\text{ as base case 1,}$\n",
    "\n",
    "$\\text{Fib}(1)=1\\text{ as base case 2,}$\n",
    "\n",
    "$\\text{For all integers }n>1,~\\text{ Fib}(n):=\\text{Fib}(n-1) + \\text{Fib}(n-2).$\n",
    "\n",
    "Many mathematical axioms are based upon recursive rules. For example, the formal definition of the natural numbers by the [Peano axioms](https://en.wikipedia.org/wiki/Peano_axioms) can be described as: 0 is a natural number, and each natural number has a successor, which is also a natural number. By this base case and recursive rule, one can generate the set of all natural numbers."
   ]
  },
  {
   "cell_type": "code",
   "execution_count": 64,
   "metadata": {
    "collapsed": true
   },
   "outputs": [],
   "source": [
    "def get_fib(i):\n",
    "    \"\"\"Returns the ith Fibonacci number.\"\"\"\n",
    "    if i == 0 or i == 1:\n",
    "        return i\n",
    "    return get_fib(i - 1) + get_fib(i - 2)"
   ]
  },
  {
   "cell_type": "code",
   "execution_count": 72,
   "metadata": {
    "collapsed": false
   },
   "outputs": [
    {
     "data": {
      "text/plain": [
       "13"
      ]
     },
     "execution_count": 72,
     "metadata": {},
     "output_type": "execute_result"
    }
   ],
   "source": [
    "get_fib(7)"
   ]
  },
  {
   "cell_type": "markdown",
   "metadata": {
    "collapsed": true
   },
   "source": [
    "### Sorting\n",
    "[[back to top]](#Table-of-Contents)  \n",
    "[[Wikipedia: Sorting Algorithm]](https://en.wikipedia.org/wiki/Sorting_algorithm)\n",
    "\n",
    "##### Bubble Sort\n",
    "[[Wiki]](https://en.wikipedia.org/wiki/Sorting_algorithm#Bubble_sort_and_variants)  \n",
    "Bubble sort, and variants such as the cocktail sort, are simple but highly inefficient sorts. They are thus frequently seen in introductory texts, and are of some theoretical interest due to ease of analysis, but they are rarely used in practice, and primarily of recreational interest. Some variants, such as the Shell sort, have open questions about their behavior. The name *bubble sort* comes from the face that the biggest element will *bubble up* to the top on the first iteration, then the second biggest element will bubble up to the second space after the largest on the second iteration, and so on. \n",
    "\n",
    "Bubble sort is a simple sorting algorithm. The algorithm starts at the beginning of the data set. It compares the first two elements, and if the first is greater than the second, it swaps them. It continues doing this for each pair of adjacent elements to the end of the data set. It then starts again with the first two elements, repeating until no swaps have occurred on the last pass. This algorithm's average and worst-case performance is $O(n^2)$, so it is rarely used to sort large, unordered data sets. Bubble sort can be used to sort a small number of items (where its asymptotic inefficiency is not a high penalty). Bubble sort can also be used efficiently on a list of any length that is nearly sorted (that is, the elements are not significantly out of place). For example, if any number of elements are out of place by only one position (e.g. $0123546789$ and $1032547698$), bubble sort's exchange will get them in order on the first pass, the second pass will find all elements in order, so the sort will take only $2n$ time.\n",
    "\n",
    "##### Merge Sort\n",
    "[[Wiki]](https://en.wikipedia.org/wiki/Sorting_algorithm#Efficient_sorts)  \n",
    "Merge sort takes advantage of the ease of merging already sorted lists into a new sorted list. It starts by comparing every two elements (i.e., 1 with 2, then 3 with 4...) and swapping them if the first should come after the second. It then merges each of the resulting lists of two into lists of four, then merges those lists of four, and so on; until at last two lists are merged into the final sorted list. Of the algorithms described here, this is the first that scales well to very large lists, because its worst-case running time is $O(n \\log n)$. It is also easily applied to lists, not only arrays, as it only requires sequential access, not random access. However, it has additional $O(n)$ space complexity, and involves a large number of copies in simple implementations.\n",
    "\n",
    "Merge sort has seen a relatively recent surge in popularity for practical implementations, due to its use in the sophisticated algorithm Timsort, which is used for the standard sort routine in the programming languages Python and Java.\n",
    "\n",
    "\n",
    "##### Quick Sort\n",
    "[[Wiki]](https://en.wikipedia.org/wiki/Sorting_algorithm#Quicksort)  \n",
    "Quicksort is a divide and conquer algorithm. Quicksort first divides a large array into two smaller sub-arrays: the low elements and the high elements. Quicksort can then recursively sort the sub-arrays.\n",
    "\n",
    "The steps are:\n",
    "\n",
    "1. Pick an element, called a pivot, from the array.\n",
    "2. Partitioning: reorder the array so that all elements with values less than the pivot come before the pivot, while all elements with values greater than the pivot come after it (equal values can go either way). After this partitioning, the pivot is in its final position. This is called the partition operation.\n",
    "3. Recursively apply the above steps to the sub-array of elements with smaller values and separately to the sub-array of elements with greater values.\n",
    "\n",
    "The base case of the recursion is arrays of size zero or one, which never need to be sorted.\n",
    "\n",
    "The pivot selection and partitioning steps can be done in several different ways; the choice of specific implementation schemes greatly affects the algorithm's performance. Mathematical analysis of quicksort shows that, on average, the algorithm takes $O(n \\log n)$ comparisons to sort n items. In the worst case, it makes $O(n^2)$ comparisons, though this behavior is rare."
   ]
  },
  {
   "cell_type": "markdown",
   "metadata": {
    "collapsed": true
   },
   "source": [
    "### Maps\n",
    "[[back to top]](#Table-of-Contents)\n",
    "\n",
    "Maps have a key-value structure, and are also called dictionaries. Sets are another data structure that are unordered and don't allow duplicate entries. A map is a set-based data structure, the keys in a map are a set. "
   ]
  },
  {
   "cell_type": "markdown",
   "metadata": {},
   "source": [
    "### Hashing\n",
    "[[back to top]](#Table-of-Contents)   \n",
    "[[Wikipedia: Hash Function]](https://en.wikipedia.org/wiki/Hash_function)\n",
    "\n",
    "A hash function is any function that can be used to map data of arbitrary size to data of fixed size. The values returned by a hash function are called hash values, hash codes, hash sums, or simply hashes. One use is a data structure called a hash table, widely used in computer software for rapid data lookup. Hash functions accelerate table or database lookup by detecting duplicated records in a large file. An example is finding similar stretches in DNA sequences. They are also useful in cryptography. A cryptographic hash function allows one to easily verify that some input data maps to a given hash value, but if the input data is unknown, it is deliberately difficult to reconstruct it (or equivalent alternatives) by knowing the stored hash value. This is used for assuring integrity of transmitted data, and is the building block for HMACs, which provide message authentication.\n",
    "\n",
    "Hash functions are primarily used in hash tables, to quickly locate a data record (e.g., a dictionary definition) given its search key (the headword). Specifically, the hash function is used to map the search key to an index; the index gives the place in the hash table where the corresponding record should be stored. Hash tables, in turn, are used to implement associative arrays and dynamic sets.\n",
    "\n",
    "Typically, the domain of a hash function (the set of possible keys) is larger than its range (the number of different table indices), and so it will map several different keys to the same index. Therefore, each slot of a hash table is associated with (implicitly or explicitly) a set of records, rather than a single record. For this reason, each slot of a hash table is often called a bucket, and hash values are also called bucket indices.\n",
    "\n",
    "Thus, the hash function only hints at the record's location — it tells where one should start looking for it. Still, in a half-full table, a good hash function will typically narrow the search down to only one or two entries."
   ]
  },
  {
   "cell_type": "code",
   "execution_count": 24,
   "metadata": {
    "collapsed": true
   },
   "outputs": [],
   "source": [
    "\"\"\"Write a HashTable class that stores strings in a hash table, where keys are calculated\n",
    "using the first two letters of the string.\"\"\"\n",
    "\n",
    "class HashTable(object):\n",
    "    def __init__(self):\n",
    "        self.table = [None]*10000\n",
    "\n",
    "    def store(self, string):\n",
    "        \"\"\"Input a string that's stored in the table.\"\"\"\n",
    "        hv = self.calculate_hash_value(string)\n",
    "        if hv != -1:\n",
    "            if self.table[hv] != None:\n",
    "                self.table[hv].append(string)\n",
    "            else:\n",
    "                self.table[hv] = [string]\n",
    "\n",
    "    def lookup(self, string):\n",
    "        \"\"\"Return the hash value if the string is already in the table. Return -1 otherwise.\"\"\"\n",
    "        hv = self.calculate_hash_value(string)\n",
    "        if hv != -1:\n",
    "            if self.table[hv] != None:\n",
    "                if string in self.table[hv]:\n",
    "                    return hv\n",
    "        return -1\n",
    "\n",
    "    def calculate_hash_value(self, string):\n",
    "        \"\"\"Helper function to calulate a hash value from a string.\"\"\"\n",
    "        value = ord(string[0])*100 + ord(string[1])\n",
    "        return value"
   ]
  },
  {
   "cell_type": "code",
   "execution_count": 18,
   "metadata": {
    "collapsed": true
   },
   "outputs": [],
   "source": [
    "# Setup\n",
    "hash_table = HashTable()"
   ]
  },
  {
   "cell_type": "code",
   "execution_count": 19,
   "metadata": {
    "collapsed": false
   },
   "outputs": [
    {
     "name": "stdout",
     "output_type": "stream",
     "text": [
      "8568\n"
     ]
    }
   ],
   "source": [
    "# Test calculate_hash_value\n",
    "# Should be 8568\n",
    "print(hash_table.calculate_hash_value('UDACITY'))"
   ]
  },
  {
   "cell_type": "code",
   "execution_count": 20,
   "metadata": {
    "collapsed": false
   },
   "outputs": [
    {
     "name": "stdout",
     "output_type": "stream",
     "text": [
      "-1\n"
     ]
    }
   ],
   "source": [
    "# Test lookup edge case\n",
    "# Should be -1\n",
    "print(hash_table.lookup('UDACITY'))"
   ]
  },
  {
   "cell_type": "code",
   "execution_count": 21,
   "metadata": {
    "collapsed": false
   },
   "outputs": [
    {
     "name": "stdout",
     "output_type": "stream",
     "text": [
      "8568\n"
     ]
    }
   ],
   "source": [
    "# Test store\n",
    "hash_table.store('UDACITY')\n",
    "# Should be 8568\n",
    "print(hash_table.lookup('UDACITY'))"
   ]
  },
  {
   "cell_type": "code",
   "execution_count": 22,
   "metadata": {
    "collapsed": false
   },
   "outputs": [
    {
     "name": "stdout",
     "output_type": "stream",
     "text": [
      "8568\n"
     ]
    }
   ],
   "source": [
    "# Test store edge case\n",
    "hash_table.store('UDACIOUS')\n",
    "# Should be 8568\n",
    "print (hash_table.lookup('UDACIOUS'))"
   ]
  },
  {
   "cell_type": "markdown",
   "metadata": {},
   "source": [
    "### Trees\n",
    "[[back to top]](#Table-of-Contents)  \n",
    "[[Wikipedia: Tree (Data Structure)]](https://en.wikipedia.org/wiki/Tree_(data_structure)\n",
    "\n",
    "In computer science, a tree is a widely used abstract data type (ADT)—or data structure implementing this ADT—that simulates a hierarchical tree structure, with a root value and subtrees of children with a parent node, represented as a set of linked nodes.\n",
    "\n",
    "A tree data structure can be defined recursively (locally) as a collection of nodes (starting at a root node), where each node is a data structure consisting of a value, together with a list of references to nodes (the \"children\"), with the constraints that no reference is duplicated, and none points to the root.\n",
    "\n",
    "Alternatively, a tree can be defined abstractly as a whole (globally) as an ordered tree, with a value assigned to each node. Both these perspectives are useful: while a tree can be analyzed mathematically as a whole, when actually represented as a data structure it is usually represented and worked with separately by node (rather than as a list of nodes and an adjacency list of edges between nodes, as one may represent a digraph, for instance). For example, looking at a tree as a whole, one can talk about \"the parent node\" of a given node, but in general as a data structure a given node only contains the list of its children, but does not contain a reference to its parent (if any).\n",
    "\n",
    "##### Terminology Used in Trees\n",
    "1. **Root:** The top node in a tree.\n",
    "2. **Child:** A node directly connected to another node when moving away from the Root.\n",
    "3. **Parent:** The converse notion of a child.\n",
    "4. **Siblings:** A group of nodes with the same parent.\n",
    "5. **Descendant:** A node reachable by repeated proceeding from parent to child.\n",
    "6. **Ancestor:** A node reachable by repeated proceeding from child to parent.\n",
    "7. **Leaf:** A node with no children.\n",
    "8. **Internal node:** A node with at least one child.\n",
    "9. **External node:** A node with no children.\n",
    "10. **Degree:** Number of sub trees of a node.\n",
    "11. **Edge:** Connection between one node to another.\n",
    "12. **Path:** A sequence of nodes and edges connecting a node with a descendant.\n",
    "13. **Level:** The level of a node is defined by 1 + (the number of connections between the node and the root).\n",
    "14. **Height of node:** The height of a node is the number of edges on the longest path between that node and a leaf.\n",
    "15. **Height of tree:** The height of a tree is the height of its root node.\n",
    "16. **Depth:** The depth of a node is the number of edges from the node to the tree's root node.\n",
    "17. **Forest:** A forest is a set of n ≥ 0 disjoint trees.\n",
    "\n",
    "A **node** is a structure which may contain a value or condition, or represent a separate data structure (which could be a tree of its own). Each node in a tree has zero or more **child nodes**, which are below it in the tree (by convention, trees are drawn growing downwards). A node that has a child is called the child's **parent node** (or *ancestor node*, or *superior*). A node has at most one parent.\n",
    "\n",
    "An **internal node** (also known as an *inner node*, *inode* for short, or *branch node*) is any node of a tree that has child nodes. Similarly, an **external node** (also known as an *outer node*, *leaf node*, or *terminal node*) is any node that does not have child nodes.\n",
    "\n",
    "The topmost node in a tree is called the **root node**. Depending on definition, a tree may be required to have a root node (in which case all trees are non-empty), or may be allowed to be empty, in which case it does not necessarily have a root node. Being the topmost node, the root node will not have a parent. It is the node at which algorithms on the tree begin, since as a data structure, one can only pass from parents to children. Note that some algorithms (such as post-order depth-first search) begin at the root, but first visit leaf nodes (access the value of leaf nodes), only visit the root last (i.e., they first access the children of the root, but only access the value of the root last). All other nodes can be reached from it by following edges or links. (In the formal definition, each such path is also unique.) In diagrams, the root node is conventionally drawn at the top. In some trees, such as heaps, the root node has special properties. Every node in a tree can be seen as the root node of the subtree rooted at that node.\n",
    "\n",
    "The **height** of a node is the length of the longest downward path to a leaf from that node. The height of the root is the height of the tree. The **depth** of a node is the length of the path to its root (i.e., its root path). This is commonly needed in the manipulation of the various self-balancing trees, AVL Trees in particular. The root node has depth zero, leaf nodes have height zero, and a tree with only a single node (hence both a root and leaf) has depth and height zero. Conventionally, an empty tree (tree with no nodes, if such are allowed) has depth and height −1.\n",
    "\n",
    "A **subtree** of a tree $T$ is a tree consisting of a node in $T$ and all of its descendants in $T$. Nodes thus correspond to subtrees (each node corresponds to the subtree of itself and all its descendants) – the subtree corresponding to the root node is the entire tree, and each node is the root node of the subtree it determines; the subtree corresponding to any other node is called a *proper subtree* (by analogy to a proper subset).\n",
    "\n",
    "##### Tree Traversal\n",
    "[[back to top]](#Table-of-Contents)  \n",
    "[[Wikipedia: Tree Traversal]](https://en.wikipedia.org/wiki/Tree_traversal)\n",
    "\n",
    "\n",
    "Stepping through the items of a tree, by means of the connections between parents and children, is called **walking the tree**, and the action is a walk of the tree. Often, an operation might be performed when a pointer arrives at a particular node. \n",
    "\n",
    "There are two categories of tree traversal: depth-first traversal (DFS) and breadth-first traversal (BFS). \n",
    "\n",
    "Some examples of DFS are: \n",
    "1. A walk in which each parent node is traversed before its children is called a **pre-order walk**\n",
    "2. A walk in which the children are traversed before their respective parents are traversed is called a **post-order walk**\n",
    "3. A walk in which a node's left subtree, then the node itself, and finally its right subtree are traversed is called an **in-order traversal**. (This last scenario, referring to exactly two subtrees, a left subtree and a right subtree, assumes specifically a binary tree.) \n",
    "\n",
    "A **level-order** walk effectively performs a breadth-first search over the entirety of a tree; nodes are traversed level by level, where the root node is visited first, followed by its direct child nodes and their siblings, followed by its grandchild nodes and their siblings, etc., until all nodes in the tree have been traversed."
   ]
  },
  {
   "cell_type": "code",
   "execution_count": 1,
   "metadata": {
    "collapsed": true
   },
   "outputs": [],
   "source": [
    "# Let's cement tree traversals by coding them up. Let's start with our basic building blocks:\n",
    "class Node:\n",
    "    def __init__(self, value):\n",
    "        self.value = value\n",
    "        self.children = None\n",
    "        \n",
    "# Now we can begin to build our tree:\n",
    "class Tree:\n",
    "    def __init__(self, root=None):\n",
    "        self.root = root"
   ]
  },
  {
   "cell_type": "markdown",
   "metadata": {},
   "source": [
    "##### Binary Trees\n",
    "[[back to top]](#Table-of-Contents)  \n",
    "[[Wikipedia: Binary Tree]](https://en.wikipedia.org/wiki/Binary_tree)\n",
    "\n",
    "A  binary tree is a tree data structure in which each node has at most two children, which are referred to as the left child and the right child. Each level of a binary can have $2^n$ possible nodes, where $n$ is the level (the root is level $0$). Searching an unordered tree has an efficiency of about $O(n)$. \n",
    "\n",
    "Some types of binary trees include:\n",
    "- A **full** binary tree (sometimes referred to as a *proper* or *plane* binary tree) is a tree in which every node in the tree has either 0 or 2 children.\n",
    "- In a **complete** binary tree every level, except possibly the last, is completely filled, and all nodes in the last level are as far left as possible."
   ]
  },
  {
   "cell_type": "code",
   "execution_count": 3,
   "metadata": {
    "collapsed": true
   },
   "outputs": [],
   "source": [
    "class Node(object):\n",
    "    def __init__(self, value):\n",
    "        self.value = value\n",
    "        self.left = None\n",
    "        self.right = None\n",
    "\n",
    "class BinaryTree(object):\n",
    "    def __init__(self, root):\n",
    "        self.root = Node(root)\n",
    "\n",
    "    def search(self, find_val):\n",
    "        \"\"\"Return True if the value\n",
    "        is in the tree, return\n",
    "        False otherwise.\"\"\"\n",
    "        return self.preorder_search(tree.root, find_val)\n",
    "\n",
    "    def print_tree(self):\n",
    "        \"\"\"Print out all tree nodes\n",
    "        as they are visited in\n",
    "        a pre-order traversal.\"\"\"\n",
    "        return self.preorder_print(tree.root, \"\")[:-1]\n",
    "\n",
    "    def preorder_search(self, start, find_val):\n",
    "        \"\"\"Helper method - use this to create a \n",
    "        recursive search solution.\"\"\"\n",
    "        if start:\n",
    "            if start.value == find_val:\n",
    "                return True\n",
    "            else:\n",
    "                return self.preorder_search(start.left, find_val) or self.preorder_search(start.right, find_val)\n",
    "        return False\n",
    "\n",
    "    def preorder_print(self, start, traversal):\n",
    "        \"\"\"Helper method - use this to create a \n",
    "        recursive print solution.\"\"\"\n",
    "        if start:\n",
    "            traversal += (str(start.value) + \"-\")\n",
    "            traversal = self.preorder_print(start.left, traversal)\n",
    "            traversal = self.preorder_print(start.right, traversal)\n",
    "        return traversal"
   ]
  },
  {
   "cell_type": "code",
   "execution_count": 4,
   "metadata": {
    "collapsed": true
   },
   "outputs": [],
   "source": [
    "# Set up tree\n",
    "tree = BinaryTree(1)\n",
    "tree.root.left = Node(2)\n",
    "tree.root.right = Node(3)\n",
    "tree.root.left.left = Node(4)\n",
    "tree.root.left.right = Node(5)"
   ]
  },
  {
   "cell_type": "code",
   "execution_count": 6,
   "metadata": {
    "collapsed": false
   },
   "outputs": [
    {
     "name": "stdout",
     "output_type": "stream",
     "text": [
      "True\n",
      "False\n",
      "1-2-4-5-3\n"
     ]
    }
   ],
   "source": [
    "# Test search\n",
    "\n",
    "# Should be True\n",
    "print(tree.search(4))\n",
    "\n",
    "# Should be False\n",
    "print(tree.search(6))\n",
    "\n",
    "# Test print_tree\n",
    "# Should be 1-2-4-5-3\n",
    "print(tree.print_tree())"
   ]
  },
  {
   "cell_type": "markdown",
   "metadata": {},
   "source": [
    "##### Binary Search Trees\n",
    "[[back to top]](#Table-of-Contents)  \n",
    "[[Wikipedia: Binary Search Tree]](https://en.wikipedia.org/wiki/Binary_search_tree)\n",
    "\n",
    "In computer science, binary search trees (BST), sometimes called ordered or sorted binary trees, are a particular type of containers: data structures that store \"items\" (such as numbers, names etc.) in memory. They allow fast lookup, addition and removal of items, and can be used to implement either dynamic sets of items, or lookup tables that allow finding an item by its key (e.g., finding the phone number of a person by name).\n",
    "\n",
    "Binary search trees keep their keys in sorted order, so that lookup and other operations can use the principle of binary search: when looking for a key in a tree (or a place to insert a new key), they traverse the tree from root to leaf, making comparisons to keys stored in the nodes of the tree and deciding, based on the comparison, to continue searching in the left or right subtrees. On average, this means that each comparison allows the operations to skip about half of the tree, so that each lookup, insertion or deletion takes time proportional to the logarithm of the number of items stored in the tree. This is much better than the linear time required to find items by key in an (unsorted) array, but slower than the corresponding operations on hash tables.\n",
    "\n",
    "Here is an example of a binary search tree of size 9 and depth 3, with 8 at the root.\n",
    "<img src=\"https://upload.wikimedia.org/wikipedia/commons/d/da/Binary_search_tree.svg\">\n",
    "\n",
    "When searching a BST, the average search time is proportional to the height of the tree, so the efficiency is $O(\\log(n))$. "
   ]
  },
  {
   "cell_type": "code",
   "execution_count": 7,
   "metadata": {
    "collapsed": true
   },
   "outputs": [],
   "source": [
    "class Node(object):\n",
    "    def __init__(self, value):\n",
    "        self.value = value\n",
    "        self.left = None\n",
    "        self.right = None\n",
    "\n",
    "class BST(object):\n",
    "    def __init__(self, root):\n",
    "        self.root = Node(root)\n",
    "\n",
    "    def insert(self, new_val):\n",
    "        self.insert_helper(self.root, new_val)\n",
    "\n",
    "    def insert_helper(self, current, new_val):\n",
    "        if current.value < new_val:\n",
    "            if current.right:\n",
    "                self.insert_helper(current.right, new_val)\n",
    "            else:\n",
    "                current.right = Node(new_val)\n",
    "        else:\n",
    "            if current.left:\n",
    "                self.insert_helper(current.left, new_val)\n",
    "            else:\n",
    "                current.left = Node(new_val)\n",
    "\n",
    "    def search(self, find_val):\n",
    "        return self.search_helper(self.root, find_val)\n",
    "\n",
    "    def search_helper(self, current, find_val):\n",
    "        if current:\n",
    "            if current.value == find_val:\n",
    "                return True\n",
    "            elif current.value < find_val:\n",
    "                return self.search_helper(current.right, find_val)\n",
    "            else:\n",
    "                return self.search_helper(current.left, find_val)\n",
    "        return False"
   ]
  },
  {
   "cell_type": "code",
   "execution_count": 8,
   "metadata": {
    "collapsed": true
   },
   "outputs": [],
   "source": [
    "# Set up tree\n",
    "tree = BST(4)\n",
    "\n",
    "# Insert elements\n",
    "tree.insert(2)\n",
    "tree.insert(1)\n",
    "tree.insert(3)\n",
    "tree.insert(5)"
   ]
  },
  {
   "cell_type": "code",
   "execution_count": 9,
   "metadata": {
    "collapsed": false
   },
   "outputs": [
    {
     "name": "stdout",
     "output_type": "stream",
     "text": [
      "True\n",
      "False\n"
     ]
    }
   ],
   "source": [
    "# Check search\n",
    "# Should be True\n",
    "print(tree.search(4))\n",
    "\n",
    "# Should be False\n",
    "print(tree.search(6))"
   ]
  },
  {
   "cell_type": "markdown",
   "metadata": {},
   "source": [
    "### Heaps\n",
    "[[back to top]](#Table-of-Contents)  \n",
    "[[Wikipedia: Heap (Data Structure)]](https://en.wikipedia.org/wiki/Heap_(data_structure)\n",
    "\n",
    "In computer science, a heap is a specialized tree-based data structure that satisfies the heap property: If A is a parent node of B then the key (the value) of node A is ordered with respect to the key of node B with the same ordering applying across the heap. A heap can be classified further as either a \"max heap\" or a \"min heap\". In a max heap, the keys of parent nodes are always greater than or equal to those of the children and the highest key is in the root node. In a min heap, the keys of parent nodes are less than or equal to those of the children and the lowest key is in the root node. Heaps are crucial in several efficient graph algorithms such as Dijkstra's algorithm, and in the sorting algorithm heapsort. A common implementation of a heap is the binary heap, in which the tree is a complete binary tree (see above).\n",
    "\n",
    "### Graphs\n",
    "[[back to top]](#Table-of-Contents)\n",
    "\n",
    "In computer science, a graph is an abstract data type that is meant to implement the undirected graph and directed graph concepts from mathematics.\n",
    "\n",
    "A graph data structure consists of a finite (and possibly mutable) set of **nodes** (also called *vertices* or *points*), together with a set of unordered pairs of these vertices for an undirected graph or a set of ordered pairs for a directed graph. These pairs are known as **edges** (or *arcs*, or *lines* for an undirected graph and as *arrows*, *directed edges*, *directed arcs*, or *directed lines* for a directed graph). The vertices may be part of the graph structure, or may be external entities represented by integer indices or references.\n",
    "\n",
    "A graph data structure may also associate to each edge some edge value, such as a symbolic label or a numeric attribute (cost, capacity, length, etc.).\n",
    "\n",
    "A tree is a special type of graph, just like a binary tree is a kind of tree.\n",
    "\n",
    "\n",
    "##### Graph Connectivity\n",
    "[[back to top]](#Table-of-Contents)\n",
    "\n",
    "Talking about connectivity in a directed graph is a bit more complicated than in an undirected graph. Let's look at some more definitions:\n",
    "1. **Disconnected:** Disconnected graphs are very similar whether the graph's directed or undirected—there is some vertex or group of vertices that have no connection with the rest of the graph.\n",
    "2. **Weakly Connected:** A directed graph is weakly connected when only replacing all of the directed edges with undirected edges can cause it to be connected. Imagine that your graph has several vertices with one outbound edge, meaning an edge that points from it to some other vertex in the graph. There's no way to reach all of those vertices from any other vertex in the graph, but if those edges were changed to be undirected all vertices would be easily accessible.\n",
    "3. **Connected:** Here we only use \"connected graph\" to refer to undirected graphs. In a connected graph, there is some path between one vertex and every other vertex.\n",
    "4. **Strongly Connected:** Strongly connected directed graphs must have a path from every node and every other node. So, there must be a path from A to B AND B to A."
   ]
  },
  {
   "cell_type": "code",
   "execution_count": 1,
   "metadata": {
    "collapsed": true
   },
   "outputs": [],
   "source": [
    "# In this exercise you'll need to add functions to a Graph class to return various representations of the same graph.\n",
    "# Your graph will have two different components: Nodes and Edges. \n",
    "class Node(object):\n",
    "    def __init__(self, value):\n",
    "        self.value = value\n",
    "        self.edges = []\n",
    "        \n",
    "# Nodes are pretty much the same as they were in trees.\n",
    "# Instead of having a set number of children, each node has a list of Edges. \n",
    "class Edge(object):\n",
    "    def __init__(self, value, node_from, node_to):\n",
    "        self.value = value\n",
    "        self.node_from = node_from\n",
    "        self.node_to = node_to"
   ]
  },
  {
   "cell_type": "code",
   "execution_count": 2,
   "metadata": {
    "collapsed": true
   },
   "outputs": [],
   "source": [
    "#Here, we assume that edges have both a value and a direction.\n",
    "# An edge points from one node to another—the node it starts at is the node_from and the node it ends at is the node_to.\n",
    "# You can envision it as node_from -> node_to. \n",
    "\n",
    "# The base of the Graph class looks something like this:\n",
    "class Graph(object):\n",
    "    def __init__(self, nodes=[], edges=[]):\n",
    "        self.nodes = nodes\n",
    "        self.edges = edges"
   ]
  },
  {
   "cell_type": "markdown",
   "metadata": {},
   "source": [
    "A Graph class contains a list of nodes and edges. You can sometimes get by with just a list of edges, since edges contain references to the nodes they connect to, or vice versa. However, our Graph class is built with both for the following reasons: \n",
    "- If you're storing a disconnected graph, not every node will be tied to an edge, so you should store a list of nodes.\n",
    "- We could probably leave it there, but storing an edge list will make our lives much easier when we're trying to print out different types of graph representations. \n",
    "\n",
    "Unfortunately, having both makes insertion a bit complicated. We can assume that each value is unique, but we need to be careful about keeping both nodes and edges updated when either is inserted. You'll also be given these insertion functions to help you out:"
   ]
  },
  {
   "cell_type": "code",
   "execution_count": 3,
   "metadata": {
    "collapsed": true
   },
   "outputs": [],
   "source": [
    "class Graph(object):\n",
    "    def __init__(self, nodes=[], edges=[]):\n",
    "        self.nodes = nodes\n",
    "        self.edges = edges\n",
    "\n",
    "    def insert_node(self, new_node_val):\n",
    "        new_node = Node(new_node_val)\n",
    "        self.nodes.append(new_node)\n",
    "        \n",
    "    def insert_edge(self, new_edge_val, node_from_val, node_to_val):\n",
    "        from_found = None\n",
    "        to_found = None\n",
    "        for node in self.nodes:\n",
    "            if node_from_val == node.value:\n",
    "                from_found = node\n",
    "            if node_to_val == node.value:\n",
    "                to_found = node\n",
    "        if from_found == None:\n",
    "            from_found = Node(node_from_val)\n",
    "            self.nodes.append(from_found)\n",
    "        if to_found == None:\n",
    "            to_found = Node(node_to_val)\n",
    "            self.nodes.append(to_found)\n",
    "        new_edge = Edge(new_edge_val, from_found, to_found)\n",
    "        from_found.edges.append(new_edge)\n",
    "        to_found.edges.append(new_edge)\n",
    "        self.edges.append(new_edge)\n",
    "\n",
    "    def get_edge_list(self):\n",
    "        \"\"\"Don't return a list of edge objects!\n",
    "        Return a list of triples that looks like this:\n",
    "        (Edge Value, From Node Value, To Node Value)\"\"\"\n",
    "        edge_list = []\n",
    "        for edge_object in self.edges:\n",
    "            edge = (edge_object.value, edge_object.node_from.value, edge_object.node_to.value)\n",
    "            edge_list.append(edge)\n",
    "        return edge_list\n",
    "\n",
    "    def get_adjacency_list(self):\n",
    "        \"\"\"Don't return any Node or Edge objects!\n",
    "        You'll return a list of lists.\n",
    "        The indecies of the outer list represent\n",
    "        \"from\" nodes.\n",
    "        Each section in the list will store a list\n",
    "        of tuples that looks like this:\n",
    "        (To Node, Edge Value)\"\"\"\n",
    "        max_index = self.find_max_index()\n",
    "        adjacency_list = [None] * (max_index + 1)\n",
    "        for edge_object in self.edges:\n",
    "            if adjacency_list[edge_object.node_from.value]:\n",
    "                adjacency_list[edge_object.node_from.value].append((edge_object.node_to.value, edge_object.value))\n",
    "            else:\n",
    "                adjacency_list[edge_object.node_from.value] = [(edge_object.node_to.value, edge_object.value)]\n",
    "        return adjacency_list\n",
    "    \n",
    "    def get_adjacency_matrix(self):\n",
    "        \"\"\"Return a matrix, or 2D list.\n",
    "        Row numbers represent from nodes,\n",
    "        column numbers represent to nodes.\n",
    "        Store the edge values in each spot,\n",
    "        and a 0 if no edge exists.\"\"\"\n",
    "        max_index = self.find_max_index()\n",
    "        adjacency_matrix = [[0 for i in range(max_index + 1)] for j in range(max_index + 1)]\n",
    "        for edge_object in self.edges:\n",
    "            adjacency_matrix[edge_object.node_from.value][edge_object.node_to.value] = edge_object.value\n",
    "        return adjacency_matrix\n",
    "\n",
    "    def find_max_index(self):\n",
    "        max_index = -1\n",
    "        if len(self.nodes):\n",
    "            for node in self.nodes:\n",
    "                if node.value > max_index:\n",
    "                    max_index = node.value\n",
    "        return max_index"
   ]
  },
  {
   "cell_type": "code",
   "execution_count": 4,
   "metadata": {
    "collapsed": true
   },
   "outputs": [],
   "source": [
    "graph = Graph()\n",
    "graph.insert_edge(100, 1, 2)\n",
    "graph.insert_edge(101, 1, 3)\n",
    "graph.insert_edge(102, 1, 4)\n",
    "graph.insert_edge(103, 3, 4)"
   ]
  },
  {
   "cell_type": "code",
   "execution_count": 5,
   "metadata": {
    "collapsed": false
   },
   "outputs": [
    {
     "name": "stdout",
     "output_type": "stream",
     "text": [
      "[(100, 1, 2), (101, 1, 3), (102, 1, 4), (103, 3, 4)]\n",
      "[None, [(2, 100), (3, 101), (4, 102)], None, [(4, 103)], None]\n",
      "[[0, 0, 0, 0, 0], [0, 0, 100, 101, 102], [0, 0, 0, 0, 0], [0, 0, 0, 0, 103], [0, 0, 0, 0, 0]]\n"
     ]
    }
   ],
   "source": [
    "# Should be [(100, 1, 2), (101, 1, 3), (102, 1, 4), (103, 3, 4)]\n",
    "print(graph.get_edge_list())\n",
    "\n",
    "# Should be [None, [(2, 100), (3, 101), (4, 102)], None, [(4, 103)], None]\n",
    "print(graph.get_adjacency_list())\n",
    "\n",
    "# Should be [[0, 0, 0, 0, 0], [0, 0, 100, 101, 102], [0, 0, 0, 0, 0], [0, 0, 0, 0, 103], [0, 0, 0, 0, 0]]\n",
    "print(graph.get_adjacency_matrix())"
   ]
  },
  {
   "cell_type": "code",
   "execution_count": null,
   "metadata": {
    "collapsed": true
   },
   "outputs": [],
   "source": []
  }
 ],
 "metadata": {
  "kernelspec": {
   "display_name": "Python 3",
   "language": "python",
   "name": "python3"
  },
  "language_info": {
   "codemirror_mode": {
    "name": "ipython",
    "version": 3
   },
   "file_extension": ".py",
   "mimetype": "text/x-python",
   "name": "python",
   "nbconvert_exporter": "python",
   "pygments_lexer": "ipython3",
   "version": "3.5.1"
  }
 },
 "nbformat": 4,
 "nbformat_minor": 0
}
