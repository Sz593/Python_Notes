{
 "cells": [
  {
   "cell_type": "markdown",
   "metadata": {},
   "source": [
    "# Introduction to Shell for Data Science"
   ]
  },
  {
   "cell_type": "code",
   "execution_count": 1,
   "metadata": {},
   "outputs": [],
   "source": [
    "import sys\n",
    "import datetime as dt"
   ]
  },
  {
   "cell_type": "code",
   "execution_count": 2,
   "metadata": {},
   "outputs": [
    {
     "name": "stdout",
     "output_type": "stream",
     "text": [
      "Author:            Simon Zahn\n",
      "Last Updated:      2019-07-28 17:46\n",
      "Python Version:    3.7.3 (default, Apr 24 2019, 15:29:51) [MSC v.1915 64 bit (AMD64)]\n"
     ]
    }
   ],
   "source": [
    "# Notebook Info\n",
    "nb_info = {'Author':'Simon Zahn', 'Last Updated':dt.datetime.now().strftime('%Y-%m-%d %H:%M'), 'Python Version':sys.version }\n",
    "\n",
    "for k,v in nb_info.items():\n",
    "    print((k + ':').ljust(18), str(v))"
   ]
  },
  {
   "cell_type": "markdown",
   "metadata": {},
   "source": [
    "--------------------------\n",
    "\n",
    "### Table of Contents\n",
    "\n",
    "1. [Imports and Top Matter](#Imports-and-Top-Matter)\n",
    "1. [Introduction to Exploratory Data Analysis](#Introduction-to-Exploratory-Data-Analysis)\n",
    "--------------------------"
   ]
  },
  {
   "cell_type": "markdown",
   "metadata": {},
   "source": [
    "### Imports and Top Matter\n",
    "[[back to top]](#Table-of-Contents)"
   ]
  },
  {
   "cell_type": "code",
   "execution_count": 6,
   "metadata": {},
   "outputs": [],
   "source": [
    "# standard library\n",
    "# general\n",
    "\n",
    "# IPython\n",
    "from IPython.display import display, Image\n",
    "\n",
    "# analysis\n",
    "import numpy as np\n",
    "import pandas as pd\n",
    "from scipy import stats, special\n",
    "\n",
    "# plotting\n",
    "import matplotlib.pyplot as plt\n",
    "import seaborn as sns"
   ]
  },
  {
   "cell_type": "code",
   "execution_count": 5,
   "metadata": {},
   "outputs": [],
   "source": [
    "pal = sns.color_palette()"
   ]
  },
  {
   "cell_type": "markdown",
   "metadata": {},
   "source": [
    "The filesystem manages files and directories (or folders). Each is identified by an absolute path that shows how to reach it from the filesystem's root directory: `/home/repl` is the directory repl in the directory home, while `/home/repl/course.txt` is a file course.txt in that directory, and `/` on its own is the root directory.\n",
    "\n",
    "To find out where you are in the filesystem, run the command `pwd` (short for \"print working directory\"). This prints the absolute path of your current working directory, which is where the shell runs commands and looks for files by default."
   ]
  },
  {
   "cell_type": "code",
   "execution_count": 9,
   "metadata": {},
   "outputs": [
    {
     "data": {
      "text/plain": [
       "'C:\\\\Users\\\\Simon\\\\Documents\\\\Python Scripts\\\\Python_Notes'"
      ]
     },
     "execution_count": 9,
     "metadata": {},
     "output_type": "execute_result"
    }
   ],
   "source": [
    "pwd"
   ]
  },
  {
   "cell_type": "markdown",
   "metadata": {},
   "source": [
    "`pwd` tells you where you are. To find out what's there, type `ls` (which is short for \"listing\") and press the enter key. On its own, ls lists the contents of your current directory (the one displayed by `pwd`). If you add the names of some files, `ls` will list them, and if you add the names of directories, it will list their contents. For example, `ls /home/repl` shows you what's in your starting directory (usually called your home directory).\n",
    "\n",
    "Use `ls` with an appropriate argument to list the files in the directory `/home/repl/seasonal` (which holds information on dental surgeries by date, broken down by season). Which of these files is not in that directory?"
   ]
  },
  {
   "cell_type": "code",
   "execution_count": 10,
   "metadata": {},
   "outputs": [
    {
     "name": "stdout",
     "output_type": "stream",
     "text": [
      " Volume in drive C is Local Disk\n",
      " Volume Serial Number is 8085-52B5\n",
      "\n",
      " Directory of C:\\Users\\Simon\\Documents\\Python Scripts\\Python_Notes\n",
      "\n",
      "2019-07-28  17:52    <DIR>          .\n",
      "2019-07-28  17:52    <DIR>          ..\n",
      "2019-07-28  17:46    <DIR>          .ipynb_checkpoints\n",
      "2019-07-28  09:44            32,090 1-1 Basic Python.ipynb\n",
      "2019-07-28  17:48            32,257 1-5 Importing Data in Python.ipynb\n",
      "2019-07-28  17:49           661,478 2-1 Statistical Thinking in Python.ipynb\n",
      "2019-07-28  17:52             4,309 3-1 Intro to Shell for Data Science.ipynb\n",
      "2019-07-28  09:44           189,229 Basic Graphing.ipynb\n",
      "2019-07-28  09:44    <DIR>          Book and Course Notes\n",
      "2019-07-28  15:58    <DIR>          Data\n",
      "2019-07-28  09:44    <DIR>          Images\n",
      "2019-07-28  09:44    <DIR>          Modules - Data and Analysis\n",
      "2019-07-28  09:44               172 README.md\n",
      "2019-07-28  09:44            61,024 Udacity Intro to Statistics Notes.ipynb\n",
      "2019-07-28  09:44    <DIR>          Useful_Code_Snippets\n",
      "               7 File(s)        980,559 bytes\n",
      "               8 Dir(s)  335,356,841,984 bytes free\n"
     ]
    }
   ],
   "source": [
    "ls"
   ]
  },
  {
   "cell_type": "markdown",
   "metadata": {},
   "source": [
    "An absolute path is like a latitude and longitude: it has the same value no matter where you are. A relative path, on the other hand, specifies a location starting from where you are: it's like saying \"20 kilometers north\".\n",
    "\n",
    "For example, if you are in the directory `/home/repl`, the relative path seasonal specifies the same directory as `/home/repl/seasonal`, while `seasonal/winter.csv` specifies the same file as `/home/repl/seasonal/winter.csv`. The shell decides if a path is absolute or relative by looking at its first character: if it begins with `/`, it is absolute, and if it doesn't, it is relative."
   ]
  },
  {
   "cell_type": "code",
   "execution_count": null,
   "metadata": {},
   "outputs": [],
   "source": []
  }
 ],
 "metadata": {
  "kernelspec": {
   "display_name": "Python 3",
   "language": "python",
   "name": "python3"
  },
  "language_info": {
   "codemirror_mode": {
    "name": "ipython",
    "version": 3
   },
   "file_extension": ".py",
   "mimetype": "text/x-python",
   "name": "python",
   "nbconvert_exporter": "python",
   "pygments_lexer": "ipython3",
   "version": "3.7.3"
  }
 },
 "nbformat": 4,
 "nbformat_minor": 4
}
