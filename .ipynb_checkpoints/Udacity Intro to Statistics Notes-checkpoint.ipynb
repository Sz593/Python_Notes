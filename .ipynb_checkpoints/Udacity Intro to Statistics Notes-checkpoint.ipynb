{
 "cells": [
  {
   "cell_type": "markdown",
   "metadata": {},
   "source": [
    "Lessons 1 - 14 notes are already incorporated into the standard statistics notes. \n",
    "\n",
    "### Table of Contents\n",
    "- (15) [Variance](#15-Variance)\n",
    "- (17) [Outliers](#17-Outliers)\n",
    "- (18) [Binomial Distribution](#18-Binomial-Distribution)\n",
    "- (19) [Central Limit Theorem](#19-Central-Limit-Theorem)\n",
    "- (20) [Normal Distribution](#20-Normal-Distribution)\n",
    "- (21) [Manipulating Normals](#21-Manipulating-Normals)\n",
    "- (24) [Confidence Intervals](#24-Confidence-Intervals)\n",
    "- (26) [Hypothesis Testing](#26-Hypothesis-Testing)\n",
    "- (29) [Regression](#29-Regression)\n",
    "\n",
    "### Table of Contents - Data Science\n",
    "- [Intro to Data Science](#Intro-to-Data-Science-Notes)\n",
    "\n",
    "\n",
    "# Intro to Statistics Notes"
   ]
  },
  {
   "cell_type": "code",
   "execution_count": 1,
   "metadata": {
    "collapsed": true
   },
   "outputs": [],
   "source": [
    "# standard library imports\n",
    "import random\n",
    "import statistics\n",
    "\n",
    "# data imports\n",
    "import numpy as np\n",
    "import scipy.stats as stats\n",
    "from scipy.special import comb, perm, factorial\n",
    "\n",
    "# graphing imports\n",
    "%matplotlib inline\n",
    "import matplotlib.pyplot as plt"
   ]
  },
  {
   "cell_type": "code",
   "execution_count": 2,
   "metadata": {
    "collapsed": true
   },
   "outputs": [],
   "source": [
    "def binom(n, k):\n",
    "    return comb(n, k, exact = True)\n",
    "\n",
    "def nPk(n, k):\n",
    "    return perm(n, k, exact = True)"
   ]
  },
  {
   "cell_type": "markdown",
   "metadata": {},
   "source": [
    "### Variance\n",
    "[[back to top]](#Table-of-Contents)"
   ]
  },
  {
   "cell_type": "code",
   "execution_count": 3,
   "metadata": {
    "collapsed": true
   },
   "outputs": [],
   "source": [
    "x = [17, 19, 18, 17, 19]\n",
    "y = [7, 38, 4, 23, 18]"
   ]
  },
  {
   "cell_type": "code",
   "execution_count": 4,
   "metadata": {
    "collapsed": false
   },
   "outputs": [
    {
     "name": "stdout",
     "output_type": "stream",
     "text": [
      "18.0\n",
      "18.0\n"
     ]
    }
   ],
   "source": [
    "print(statistics.mean(x))\n",
    "print(statistics.mean(y))"
   ]
  },
  {
   "cell_type": "markdown",
   "metadata": {},
   "source": [
    "Variance is a measure of how far the data is spread out. \n",
    "\n",
    "$$ \\text{Population Variance} = \\frac{1}{N}\\sum_i\\left( x_i - \\mu \\right)^2 $$\n",
    "\n",
    "Variance is technically the average quadratic deviation from the mean. If you don't want the quadratic (different units), then you can take the square root and get the standard deviation."
   ]
  },
  {
   "cell_type": "code",
   "execution_count": 5,
   "metadata": {
    "collapsed": false
   },
   "outputs": [
    {
     "name": "stdout",
     "output_type": "stream",
     "text": [
      "5.0\n",
      "2.0\n",
      "1.4142135623730951\n"
     ]
    }
   ],
   "source": [
    "data = [3, 4, 5, 6, 7]\n",
    "print(statistics.mean(data), statistics.pvariance(data), statistics.pstdev(data), sep = '\\n')"
   ]
  },
  {
   "cell_type": "code",
   "execution_count": 6,
   "metadata": {
    "collapsed": false
   },
   "outputs": [
    {
     "name": "stdout",
     "output_type": "stream",
     "text": [
      "4.0\n",
      "3\n",
      "3\n"
     ]
    }
   ],
   "source": [
    "data = [1, 2, 2, 3, 3, 3, 4, 4, 5, 6, 11]\n",
    "print(statistics.mean(data), statistics.median(data), statistics.mode(data), sep = '\\n')"
   ]
  },
  {
   "cell_type": "code",
   "execution_count": 7,
   "metadata": {
    "collapsed": false
   },
   "outputs": [
    {
     "data": {
      "text/plain": [
       "0.0"
      ]
     },
     "execution_count": 7,
     "metadata": {},
     "output_type": "execute_result"
    }
   ],
   "source": [
    "statistics.pvariance([0, 0])"
   ]
  },
  {
   "cell_type": "code",
   "execution_count": 8,
   "metadata": {
    "collapsed": false
   },
   "outputs": [
    {
     "data": {
      "text/plain": [
       "0.125"
      ]
     },
     "execution_count": 8,
     "metadata": {},
     "output_type": "execute_result"
    }
   ],
   "source": [
    "statistics.mean([0, .25, .25, 0])"
   ]
  },
  {
   "cell_type": "code",
   "execution_count": 9,
   "metadata": {
    "collapsed": false
   },
   "outputs": [
    {
     "data": {
      "text/plain": [
       "12.0"
      ]
     },
     "execution_count": 9,
     "metadata": {},
     "output_type": "execute_result"
    }
   ],
   "source": [
    "statistics.median([5, 9, 15, 25])"
   ]
  },
  {
   "cell_type": "markdown",
   "metadata": {
    "collapsed": true
   },
   "source": [
    "## 17 Outliers\n",
    "[[back to top]](#Table-of-Contents)"
   ]
  },
  {
   "cell_type": "code",
   "execution_count": 10,
   "metadata": {
    "collapsed": false
   },
   "outputs": [
    {
     "data": {
      "text/plain": [
       "22.0"
      ]
     },
     "execution_count": 10,
     "metadata": {},
     "output_type": "execute_result"
    }
   ],
   "source": [
    "data1 = [22, 21, 24, 20, 23]\n",
    "statistics.mean(data1)"
   ]
  },
  {
   "cell_type": "markdown",
   "metadata": {},
   "source": [
    "Quartiles partition data into four regions. The three lines between these regions are the first, second, and third quartiles:\n",
    "\n",
    "- The first quartile (designated Q1), also called the lower quartile or the 25th percentile, splits off the lowest 25% of data from the highest 75%.\n",
    "- The second quartile (designated Q2), also called the median or the 50th percentile, cuts data set in half.\n",
    "- The third quartile (designated Q3), also called the upper quartile or the 75th percentile, splits off the highest 25% of data from the lowest 75%.\n",
    "- The interquartile range (designated IQR) is the difference between the upper and lower quartiles. (IQR = Q3 - Q1)\n",
    "\n",
    "Udacity uses *method 1* of [Wikipedia's quartile article](https://en.wikipedia.org/wiki/Quartile), but doing the calculation with NumPy uses *method 3*, shown below: \n",
    "\n",
    "**Method 1**\n",
    "1. Use the median to divide the ordered data set into two halves.\n",
    "  1. If there are an odd number of data points in the original ordered data set, do not include the median (the central value in the ordered list) in either half.\n",
    "  2. If there are an even number of data points in the original ordered data set, split this data set exactly in half.\n",
    "2. The lower quartile value is the median of the lower half of the data. The upper quartile value is the median of the upper half of the data.\n",
    "3. This rule is employed by the TI-83 calculator boxplot and \"1-Var Stats\" functions.\n",
    "\n",
    "**Method 2**\n",
    "1. Use the median to divide the ordered data set into two halves.\n",
    "  1. If there are an odd number of data points in the original ordered data set, include the median (the central value in the ordered list) in both halves.\n",
    "  2. If there are an even number of data points in the original ordered data set, split this data set exactly in half.\n",
    "2. The lower quartile value is the median of the lower half of the data. The upper quartile value is the median of the upper half of the data.\n",
    "3. The values found by this method are also known as \"Tukey's hinges\".\n",
    "\n",
    "**Method 3**\n",
    "1. If there are an even number of data points, then Method 3 is the same as either method above since the median is no single datum.\n",
    "2. If there are ($4n+1$) data points, then the lower quartile is $25\\%$ of the nth data value plus $75\\%$ of the $(n+1)$th data value; the upper quartile is $75\\%$ of the $(3n+1)$th data point plus $25\\%$ of the $(3n+2)$th data point.\n",
    "3. If there are $(4n+3)$ data points, then the lower quartile is $75\\%$ of the $(n+1)$th data value plus $25\\%$ of the $(n+2)$th data value; the upper quartile is $25\\%$ of the $(3n+2)$th data point plus $75\\%$ of the $(3n+3)$th data point.\n",
    "4. This always gives the arithmetic mean of Methods 1 and 2; it ensures that the median value is given its correct weight, and thus quartile values change as smoothly as possible as additional data points are added.\n",
    "\n",
    "So all methods give the same values if there is an even number of elements in the data set. "
   ]
  },
  {
   "cell_type": "code",
   "execution_count": 11,
   "metadata": {
    "collapsed": false
   },
   "outputs": [
    {
     "data": {
      "text/plain": [
       "6"
      ]
     },
     "execution_count": 11,
     "metadata": {},
     "output_type": "execute_result"
    }
   ],
   "source": [
    "data2 = [3, 3, 4, 5, 6, 6, 7, 7, 8, 8, 9]\n",
    "statistics.median(data2)"
   ]
  },
  {
   "cell_type": "code",
   "execution_count": 12,
   "metadata": {
    "collapsed": false
   },
   "outputs": [
    {
     "name": "stdout",
     "output_type": "stream",
     "text": [
      "First Quartile:      4.5\n",
      "Median:              6.0\n",
      "Third Quartile:      7.5\n",
      "Interquartile Range: 3.0\n"
     ]
    }
   ],
   "source": [
    "print('{:<20}{:>4}'.format('First Quartile:', np.percentile(data2, 25)))\n",
    "print('{:<20}{:>4}'.format('Median:' ,np.percentile(data2, 50)))\n",
    "print('{:<20}{:>4}'.format('Third Quartile:' ,np.percentile(data2, 75)))\n",
    "print('{:<20}{:>4}'.format('Interquartile Range:' ,np.percentile(data2, 75) - np.percentile(data2, 25)))"
   ]
  },
  {
   "cell_type": "code",
   "execution_count": 13,
   "metadata": {
    "collapsed": false
   },
   "outputs": [],
   "source": [
    "data3 = [19, 19, 20, 21, 22, 22, 22, 23, 23, 24, 25]\n",
    "\n",
    "def quartile_method_1(data):\n",
    "    data.sort()\n",
    "    q2 = statistics.median(data)\n",
    "    len_data = len(data)\n",
    "    \n",
    "    lower_half = []\n",
    "    upper_half = []\n",
    "    \n",
    "    for i in range(int((len_data - 1) / 2)):\n",
    "        lower_half.append(data[i])\n",
    "    \n",
    "    for i in range(int((len_data + 1)/2), len_data):\n",
    "        upper_half.append(data[i])\n",
    "    \n",
    "    q1 = statistics.median(lower_half)\n",
    "    q3 = statistics.median(upper_half)\n",
    "    return (q1, q2, q3), lower_half, upper_half"
   ]
  },
  {
   "cell_type": "code",
   "execution_count": 14,
   "metadata": {
    "collapsed": false
   },
   "outputs": [
    {
     "name": "stdout",
     "output_type": "stream",
     "text": [
      "The quartiles are: \n",
      "Q1: 20\n",
      "Q2: 22\n",
      "Q3: 23.\n",
      "\n",
      "The lower half of the values are: [19, 19, 20, 21, 22].\n",
      "The upper half of the values are: [22, 23, 23, 24, 25].\n"
     ]
    }
   ],
   "source": [
    "x = quartile_method_1(data3)\n",
    "print('The quartiles are: \\nQ1: {}\\nQ2: {}\\nQ3: {}.\\n'.format(x[0][0], x[0][1], x[0][2]))\n",
    "print('The lower half of the values are: {}.'.format(x[1]))\n",
    "print('The upper half of the values are: {}.'.format(x[2]))"
   ]
  },
  {
   "cell_type": "markdown",
   "metadata": {},
   "source": [
    "There are methods by which to check for outliers in the discipline of statistics and statistical analysis. As is the basic idea of descriptive statistics, when encountering an outlier, we have to explain this value by further analysis of the cause or origin of the outlier. In cases of extreme observations, which are not an infrequent occurrence, the typical values must be analyzed. In the case of quartiles, the Interquartile Range ($IQR$) may be used to characterize the data when there may be extremities that skew the data; the interquartile range is a relatively robust statistic (also sometimes called \"resistance\") compared to the range and standard deviation. There is also a mathematical method to check for outliers and determining \"fences\", upper and lower limits from which to check for outliers.\n",
    "\n",
    "After determining the first and third quartiles and the interquartile range as outlined above, then fences are calculated using the following formula:\n",
    "\n",
    "\\begin{align*}\n",
    "\\text{Lower fence} &= Q_1 - 1.5(\\mathrm{IQR}) \\\\\n",
    "\\text{Upper fence} &= Q_3 + 1.5(\\mathrm{IQR}),\n",
    "\\end{align*}\n",
    "\n",
    "where $Q1$ and $Q3$ are the first and third quartiles, respectively. The Lower fence is the \"lower limit\" and the Upper fence is the \"upper limit\" of data, and any data lying outside these defined bounds can be considered an outlier. Anything below the Lower fence or above the Upper fence can be considered such a case. The fences provide a guideline by which to define an outlier, which may be defined in other ways. The fences define a \"range\" outside of which an outlier exists; a way to picture this is a boundary of a fence, outside of which are \"outsiders\" as opposed to outliers."
   ]
  },
  {
   "cell_type": "code",
   "execution_count": 15,
   "metadata": {
    "collapsed": false
   },
   "outputs": [
    {
     "name": "stdout",
     "output_type": "stream",
     "text": [
      "Method 1\n",
      "First Quartile:       15\n",
      "Median:               40\n",
      "Third Quartile:       43\n",
      "Interquartile Range:  28\n",
      "\n",
      "Method 2\n",
      "First Quartile:     25.5\n",
      "Median:               40\n",
      "Third Quartile:     42.5\n",
      "Interquartile Range:17.0\n"
     ]
    }
   ],
   "source": [
    "test_data = [6, 7, 15, 36, 39, 40, 41, 42, 43, 47, 49]\n",
    "\n",
    "# np.percentile(test_data, np.arange(0, 101, 25), interpolation='nearest')\n",
    "\n",
    "# Method 1\n",
    "print('Method 1')\n",
    "print('{:<20}{:>4}'.format('First Quartile:', np.percentile(test_data, 25, interpolation='lower')))\n",
    "print('{:<20}{:>4}'.format('Median:', np.percentile(test_data, 50, interpolation='nearest')))\n",
    "print('{:<20}{:>4}'.format('Third Quartile:', np.percentile(test_data, 75, interpolation='higher')))\n",
    "print('{:<20}{:>4}'.format('Interquartile Range:',\n",
    "                           np.percentile(test_data, 75, \n",
    "                                         interpolation='higher') - np.percentile(test_data, 25, \n",
    "                                                                                 interpolation='lower')))\n",
    "\n",
    "\n",
    "# Method 2\n",
    "# Interpolation can be either 'midpoint' or 'linear'\n",
    "print('\\nMethod 2')\n",
    "print('{:<20}{:>4}'.format('First Quartile:', np.percentile(test_data, 25, interpolation='midpoint')))\n",
    "print('{:<20}{:>4}'.format('Median:', np.percentile(test_data, 50, interpolation='nearest')))\n",
    "print('{:<20}{:>4}'.format('Third Quartile:', np.percentile(test_data, 75, interpolation='midpoint')))\n",
    "print('{:<20}{:>4}'.format('Interquartile Range:',\n",
    "                           np.percentile(test_data, 75, \n",
    "                                         interpolation='midpoint') - np.percentile(test_data, 25, \n",
    "                                                                                   interpolation='midpoint')))"
   ]
  },
  {
   "cell_type": "markdown",
   "metadata": {},
   "source": [
    "There are actually several internals parts to a box plot, and we can use those internal parts to determine which method of calculating the quartiles matplotlib uses. The 'boxes' part holds the first and third quartiles, 'medians' holds the median, 'fliers' holds the outliers, 'whiskers' holds the whisker start and stop points, and 'caps' holds the data endpoints (without outliers). "
   ]
  },
  {
   "cell_type": "code",
   "execution_count": 16,
   "metadata": {
    "collapsed": false
   },
   "outputs": [
    {
     "name": "stdout",
     "output_type": "stream",
     "text": [
      "Boxplot Parts:       ['caps', 'boxes', 'whiskers', 'means', 'medians', 'fliers'] \n",
      "\n",
      "  Part - boxes:      [array([ 25.5,  25.5,  42.5,  42.5,  25.5])]\n",
      "  Part - medians:    [array([ 40.,  40.])]\n",
      "  Part - means:      []\n",
      "  Part - fliers:     [array([], dtype=int32)]\n",
      "  Part - whiskers:   [array([ 25.5,   6. ]), array([ 42.5,  49. ])]\n",
      "  Part - caps:       [array([ 6.,  6.]), array([ 49.,  49.])]\n"
     ]
    },
    {
     "data": {
      "image/png": "[encoded data removed]",
      "text/plain": [
       "<matplotlib.figure.Figure at 0x87dbf28>"
      ]
     },
     "metadata": {},
     "output_type": "display_data"
    }
   ],
   "source": [
    "boxPlot = plt.boxplot(test_data)\n",
    "\n",
    "# items in the box plot\n",
    "print('{:<20}'.format('Boxplot Parts:'), [item for item in boxPlot], '\\n')\n",
    "\n",
    "# vertical data for useful boxplot items\n",
    "print('  {:<18}'.format('Part - boxes:'), [item.get_ydata() for item in boxPlot['boxes']])\n",
    "print('  {:<18}'.format('Part - medians:'), [item.get_ydata() for item in boxPlot['medians']])\n",
    "print('  {:<18}'.format('Part - means:'), [item.get_ydata() for item in boxPlot['means']])\n",
    "print('  {:<18}'.format('Part - fliers:'), [item.get_ydata() for item in boxPlot['fliers']])\n",
    "print('  {:<18}'.format('Part - whiskers:'), [item.get_ydata() for item in boxPlot['whiskers']])\n",
    "print('  {:<18}'.format('Part - caps:'), [item.get_ydata() for item in boxPlot['caps']])"
   ]
  },
  {
   "cell_type": "code",
   "execution_count": 17,
   "metadata": {
    "collapsed": false
   },
   "outputs": [
    {
     "data": {
      "text/plain": [
       "<matplotlib.text.Text at 0x8bf9198>"
      ]
     },
     "execution_count": 17,
     "metadata": {},
     "output_type": "execute_result"
    },
    {
     "data": {
      "image/png": "[encoded data removed]",
      "text/plain": [
       "<matplotlib.figure.Figure at 0x87db630>"
      ]
     },
     "metadata": {},
     "output_type": "display_data"
    }
   ],
   "source": [
    "data1 = [-5.13, -2.19, -2.43, -3.83, 0.50, -3.25, 4.32, 1.63, 5.18,\n",
    "         -0.43, 7.11, 4.87, -3.10, -5.81, 3.76, 6.31, 2.58, 0.07, 5.76, 3.50]\n",
    "\n",
    "data2 = [2.37, 2.16, 14.82, 1.73, 41.04, 0.23, 1.32, 2.91, 39.41, 0.11,\n",
    "         27.44, 4.51, 0.51, 4.50, 0.18, 14.68, 4.66, 1.30, 2.06, 1.19]\n",
    "\n",
    "boxPlot2 = plt.boxplot([data1, data2])\n",
    "plt.xlabel('Data Set')\n",
    "plt.ylabel('Number')\n",
    "plt.title('Box Plots')"
   ]
  },
  {
   "cell_type": "markdown",
   "metadata": {},
   "source": [
    "### 18 Binomial Distribution\n",
    "[[back to top]](#Table-of-Contents)"
   ]
  },
  {
   "cell_type": "code",
   "execution_count": 18,
   "metadata": {
    "collapsed": false
   },
   "outputs": [
    {
     "data": {
      "text/plain": [
       "317750"
      ]
     },
     "execution_count": 18,
     "metadata": {},
     "output_type": "execute_result"
    }
   ],
   "source": [
    "binom(125, 3)"
   ]
  },
  {
   "cell_type": "code",
   "execution_count": 20,
   "metadata": {
    "collapsed": false
   },
   "outputs": [
    {
     "data": {
      "text/plain": [
       "0.23622320127999991"
      ]
     },
     "execution_count": 20,
     "metadata": {},
     "output_type": "execute_result"
    }
   ],
   "source": [
    "stats.binom(12, 0.8).pmf(9)"
   ]
  },
  {
   "cell_type": "markdown",
   "metadata": {},
   "source": [
    "##### Binomial Distribution\n",
    "\n",
    "$$ P(k\\text{ successes}) = \\binom{n}{k}p^k (1-p)^{n-k} $$\n",
    "\n",
    "where\n",
    "\n",
    "$$ \\binom{n}{k} = \\frac{n!}{k!(n-k)!} $$"
   ]
  },
  {
   "cell_type": "markdown",
   "metadata": {},
   "source": [
    "### 19 Central Limit Theorem\n",
    "[[back to top]](#Table-of-Contents)\n",
    "\n",
    "In probability theory, the central limit theorem (CLT) states that, given certain conditions, the arithmetic mean of a sufficiently large number of iterates of independent random variables, each with a well-defined expected value and well-defined variance, will be approximately normally distributed, regardless of the underlying distribution. To illustrate what this means, suppose that a sample is obtained containing a large number of observations, each observation being randomly generated in a way that does not depend on the values of the other observations, and that the arithmetic average of the observed values is computed. If this procedure is performed many times, the central limit theorem says that the computed values of the average will be distributed according to the normal distribution (commonly known as a \"bell curve\"). A simple example of this is that if one flips a coin many times, the probability of getting a given number of heads should follow a normal curve, with mean equal to half the total number of flips."
   ]
  },
  {
   "cell_type": "code",
   "execution_count": 21,
   "metadata": {
    "collapsed": false
   },
   "outputs": [
    {
     "data": {
      "text/plain": [
       "0"
      ]
     },
     "execution_count": 21,
     "metadata": {},
     "output_type": "execute_result"
    }
   ],
   "source": [
    "random.randint(0, 1)"
   ]
  },
  {
   "cell_type": "markdown",
   "metadata": {
    "collapsed": false
   },
   "source": [
    "### 20 Normal Distribution\n",
    "[[back to top]](#Table-of-Contents)\n",
    "\n",
    "$$ \\mathcal{N}(\\mu, \\sigma^2) = \\frac{1}{\\sqrt{2\\pi\\sigma}} e^{-\\left(x - \\mu\\right)^2/ \\left(2\\sigma^2\\right)}$$\n",
    "\n",
    "### 21 Manipulating Normals\n",
    "[[back to top]](#Table-of-Contents)\n",
    "\n",
    "If you double the mean, you double the variance. The standard deviation increases by a factor of $\\sqrt{2}$."
   ]
  },
  {
   "cell_type": "code",
   "execution_count": 22,
   "metadata": {
    "collapsed": false
   },
   "outputs": [
    {
     "data": {
      "text/plain": [
       "4.9500000000000002"
      ]
     },
     "execution_count": 22,
     "metadata": {},
     "output_type": "execute_result"
    }
   ],
   "source": [
    "x = [5 for i in range(19)]\n",
    "x.append(4)\n",
    "np.mean(x)"
   ]
  },
  {
   "cell_type": "code",
   "execution_count": 23,
   "metadata": {
    "collapsed": false
   },
   "outputs": [
    {
     "data": {
      "text/plain": [
       "0.0042662002428311974"
      ]
     },
     "execution_count": 23,
     "metadata": {},
     "output_type": "execute_result"
    }
   ],
   "source": [
    "1 - (stats.binom(10, 1000/100000).pmf(0) + stats.binom(10, 1000/100000).pmf(1))"
   ]
  },
  {
   "cell_type": "code",
   "execution_count": 25,
   "metadata": {
    "collapsed": false
   },
   "outputs": [
    {
     "data": {
      "text/plain": [
       "1.4142135623730951"
      ]
     },
     "execution_count": 25,
     "metadata": {},
     "output_type": "execute_result"
    }
   ],
   "source": [
    "np.sqrt(2)"
   ]
  },
  {
   "cell_type": "markdown",
   "metadata": {},
   "source": [
    "### 24 Confidence Intervals\n",
    "[[back to top]](#Table-of-Contents)\n",
    "\n",
    "The confidence interval is given by the mean plus or minus a factor.\n",
    "\n",
    "$$ \\mu \\pm a\\sqrt{\\frac{\\sigma^2}{N}} \\;\\;\\;\\;\\; = \\;\\;\\;\\;\\; \\frac{1}{N}\\sum_i X_i \\pm a\\sqrt{\\frac{\\sigma^2}{N}} $$\n",
    "\n",
    "for a $95\\%$ confidence interval, $a = 1.96$."
   ]
  },
  {
   "cell_type": "code",
   "execution_count": 1,
   "metadata": {
    "collapsed": false
   },
   "outputs": [
    {
     "data": {
      "text/plain": [
       "0.09000000000000001"
      ]
     },
     "execution_count": 1,
     "metadata": {},
     "output_type": "execute_result"
    }
   ],
   "source": [
    "stats.norm"
   ]
  },
  {
   "cell_type": "code",
   "execution_count": 6,
   "metadata": {
    "collapsed": false
   },
   "outputs": [
    {
     "data": {
      "text/plain": [
       "(5.0, 16.0)"
      ]
     },
     "execution_count": 6,
     "metadata": {},
     "output_type": "execute_result"
    }
   ],
   "source": [
    "stats.binom.interval(0.95, n = 100, p = 0.1 )"
   ]
  },
  {
   "cell_type": "code",
   "execution_count": 9,
   "metadata": {
    "collapsed": false
   },
   "outputs": [],
   "source": [
    "x = np.linspace(stats.norm.ppf(0.01), stats.norm.ppf(0.99), 100)"
   ]
  },
  {
   "cell_type": "code",
   "execution_count": 11,
   "metadata": {
    "collapsed": false
   },
   "outputs": [
    {
     "data": {
      "text/plain": [
       "[<matplotlib.lines.Line2D at 0x87ccba8>]"
      ]
     },
     "execution_count": 11,
     "metadata": {},
     "output_type": "execute_result"
    },
    {
     "data": {
      "image/png": "[encoded data removed]",
      "text/plain": [
       "<matplotlib.figure.Figure at 0x87658d0>"
      ]
     },
     "metadata": {},
     "output_type": "display_data"
    }
   ],
   "source": [
    "plt.plot(x, stats.norm.pdf(x), 'r-', lw=5, alpha=0.6, label='norm pdf')"
   ]
  },
  {
   "cell_type": "markdown",
   "metadata": {
    "collapsed": true
   },
   "source": [
    "### 26 Hypothesis Testing\n",
    "[[back to top]](#Table-of-Contents)\n",
    "\n",
    "The null hypothesis is called $H_0$, and the alternate hypothesis is $H_1$."
   ]
  },
  {
   "cell_type": "code",
   "execution_count": 10,
   "metadata": {
    "collapsed": false
   },
   "outputs": [
    {
     "data": {
      "text/plain": [
       "0.026424115200000039"
      ]
     },
     "execution_count": 10,
     "metadata": {},
     "output_type": "execute_result"
    }
   ],
   "source": [
    "stats.binom(10, .8).pmf(5)"
   ]
  },
  {
   "cell_type": "code",
   "execution_count": 14,
   "metadata": {
    "collapsed": false
   },
   "outputs": [
    {
     "name": "stdout",
     "output_type": "stream",
     "text": [
      "[21, 21, 21, 21, 24, 24, 24, 24, 24, 24, 26, 26, 26, 26, 26, 26, 26, 29, 29, 29, 29, 29, 29, 29, 29, 29, 29, 29, 40, 40]\n"
     ]
    }
   ],
   "source": [
    "data = []\n",
    "\n",
    "def data_add(x, y):\n",
    "    for i in range(x):\n",
    "        data.append(y)\n",
    "\n",
    "data_add(4, 21)\n",
    "data_add(6, 24)\n",
    "data_add(7, 26)\n",
    "data_add(11, 29)\n",
    "data_add(2, 40)\n",
    "\n",
    "print(data)"
   ]
  },
  {
   "cell_type": "code",
   "execution_count": 15,
   "metadata": {
    "collapsed": false
   },
   "outputs": [
    {
     "data": {
      "text/plain": [
       "26.966666666666665"
      ]
     },
     "execution_count": 15,
     "metadata": {},
     "output_type": "execute_result"
    }
   ],
   "source": [
    "np.mean(data)"
   ]
  },
  {
   "cell_type": "code",
   "execution_count": 16,
   "metadata": {
    "collapsed": false
   },
   "outputs": [
    {
     "data": {
      "text/plain": [
       "19.565555555555555"
      ]
     },
     "execution_count": 16,
     "metadata": {},
     "output_type": "execute_result"
    }
   ],
   "source": [
    "np.var(data)"
   ]
  },
  {
   "cell_type": "code",
   "execution_count": 21,
   "metadata": {
    "collapsed": false
   },
   "outputs": [
    {
     "data": {
      "text/plain": [
       "(-11.381117559739788, 65.314450893073115)"
      ]
     },
     "execution_count": 21,
     "metadata": {},
     "output_type": "execute_result"
    }
   ],
   "source": [
    "stats.norm.interval(0.95, loc=np.mean(data), scale=np.var(data))"
   ]
  },
  {
   "cell_type": "code",
   "execution_count": 25,
   "metadata": {
    "collapsed": false
   },
   "outputs": [
    {
     "data": {
      "text/plain": [
       "1.5828564708802271"
      ]
     },
     "execution_count": 25,
     "metadata": {},
     "output_type": "execute_result"
    }
   ],
   "source": [
    "(1.96 * np.sqrt(np.var(data) / 30))"
   ]
  },
  {
   "cell_type": "markdown",
   "metadata": {
    "collapsed": true
   },
   "source": [
    "### 29 Regression\n",
    "[[back to top]](#Table-of-Contents)\n",
    "\n",
    "For a line $y = mx + b$, we can calculate $m$ from the formula\n",
    "$$ m = \\frac{\\sum\\left(x_i - \\bar{x}\\right) \\left(y_i - \\bar{y}\\right)} {\\sum\\left(x_i - \\bar{x}\\right)^2} $$\n",
    "and $b$ from the formula\n",
    "$$ b = \\bar{y} - m\\bar{x} $$."
   ]
  },
  {
   "cell_type": "markdown",
   "metadata": {
    "collapsed": true
   },
   "source": [
    "# Intro to Data Science Notes\n",
    "[[back to top]](#Table-of-Contents)"
   ]
  },
  {
   "cell_type": "code",
   "execution_count": 4,
   "metadata": {
    "collapsed": false
   },
   "outputs": [
    {
     "data": {
      "text/plain": [
       "Ttest_indResult(statistic=-0.27968235951204068, pvalue=0.77990943097069532)"
      ]
     },
     "execution_count": 4,
     "metadata": {},
     "output_type": "execute_result"
    }
   ],
   "source": [
    "stats.ttest_ind_from_stats(0.299, np.sqrt(0.05), 150, 0.307, np.sqrt(0.08), 165, equal_var=False)"
   ]
  },
  {
   "cell_type": "code",
   "execution_count": 5,
   "metadata": {
    "collapsed": true
   },
   "outputs": [],
   "source": [
    "mu1 = 0.299\n",
    "mu2 = 0.307\n",
    "var1 = 0.05\n",
    "var2 = 0.08\n",
    "std1 = np.sqrt(var1)\n",
    "std2 = np.sqrt(var2)\n",
    "n1 = 150\n",
    "n2 = 165"
   ]
  },
  {
   "cell_type": "code",
   "execution_count": 7,
   "metadata": {
    "collapsed": false
   },
   "outputs": [
    {
     "name": "stdout",
     "output_type": "stream",
     "text": [
      "-0.279682359512\n"
     ]
    }
   ],
   "source": [
    "welsh_t = (mu1 - mu2) / (np.sqrt((var1/n1) + (var2/n2)))\n",
    "print(welsh_t)"
   ]
  },
  {
   "cell_type": "code",
   "execution_count": 9,
   "metadata": {
    "collapsed": false
   },
   "outputs": [
    {
     "data": {
      "text/plain": [
       "array([ 12.54392806,   6.56746852,   9.40270785,  10.28786238,\n",
       "        13.09316882,   9.6800925 ,   9.4415786 ,  10.09406238,\n",
       "        11.93311603,   8.23539209,  10.63013702,   8.08380976,\n",
       "        10.51541235,  13.06628227,   9.5044847 ,   9.0521647 ,\n",
       "         6.58010899,  10.13714317,  11.22971331,   9.40259291,\n",
       "        10.66739042,  11.28045344,   5.66385438,   8.31389692,\n",
       "        12.51583116,  10.32757997,   9.18275241,  11.40149153,\n",
       "         9.5595177 ,  12.64726855,   7.34177373,   7.69932173,\n",
       "         8.811111  ,   6.13020271,   8.20237852,  10.2958992 ,\n",
       "         7.83078091,   8.17459559,  11.96033335,   9.05678774,\n",
       "        14.02469058,  11.77554942,   8.5136516 ,   8.08744417,\n",
       "         6.74974092,   7.56569105,  10.6930296 ,  10.95274745,\n",
       "         8.87873773,  10.26387084,   7.36556947,   9.70020938,\n",
       "        15.46817014,  12.5689589 ,   8.86738685,   9.97277041,\n",
       "        11.34512252,  12.29332223,  11.38513482,  10.96775617,\n",
       "         7.09347599,   9.00005809,  11.34112563,   9.14566288,\n",
       "        11.9005903 ,   8.9104229 ,  12.13807288,   8.87258516,\n",
       "        12.71583576,  11.35020663,  15.60707065,  13.54394769,\n",
       "         9.34959787,   9.06986975,   8.93223739,  11.44648835,\n",
       "         7.98047532,  13.92393055,   9.49056554,  11.97806462,\n",
       "         8.59581863,   9.51256388,  10.54758123,  11.75328918,\n",
       "        11.20737762,  10.71370764,   7.94774762,   9.84460095,\n",
       "         6.40616744,  10.64654415,  12.21385205,  12.20708763,\n",
       "         8.39003868,   9.87246436,   9.34144171,   8.51266197,\n",
       "        10.44240265,   5.58694823,   8.90571745,   7.05310957])"
      ]
     },
     "execution_count": 9,
     "metadata": {},
     "output_type": "execute_result"
    }
   ],
   "source": [
    "stats.norm.rvs(loc=10, scale=2, size=100)"
   ]
  },
  {
   "cell_type": "code",
   "execution_count": null,
   "metadata": {
    "collapsed": true
   },
   "outputs": [],
   "source": []
  },
  {
   "cell_type": "code",
   "execution_count": null,
   "metadata": {
    "collapsed": true
   },
   "outputs": [],
   "source": []
  },
  {
   "cell_type": "code",
   "execution_count": null,
   "metadata": {
    "collapsed": true
   },
   "outputs": [],
   "source": []
  },
  {
   "cell_type": "code",
   "execution_count": null,
   "metadata": {
    "collapsed": true
   },
   "outputs": [],
   "source": []
  },
  {
   "cell_type": "code",
   "execution_count": null,
   "metadata": {
    "collapsed": true
   },
   "outputs": [],
   "source": []
  },
  {
   "cell_type": "code",
   "execution_count": null,
   "metadata": {
    "collapsed": true
   },
   "outputs": [],
   "source": []
  }
 ],
 "metadata": {
  "anaconda-cloud": {},
  "kernelspec": {
   "display_name": "Python [Root]",
   "language": "python",
   "name": "Python [Root]"
  },
  "language_info": {
   "codemirror_mode": {
    "name": "ipython",
    "version": 3
   },
   "file_extension": ".py",
   "mimetype": "text/x-python",
   "name": "python",
   "nbconvert_exporter": "python",
   "pygments_lexer": "ipython3",
   "version": "3.5.1"
  }
 },
 "nbformat": 4,
 "nbformat_minor": 0
}
