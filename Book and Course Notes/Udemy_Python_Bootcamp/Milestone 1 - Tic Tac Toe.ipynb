{
 "cells": [
  {
   "cell_type": "code",
   "execution_count": 1,
   "metadata": {
    "collapsed": true
   },
   "outputs": [],
   "source": [
    "pos = {'top_left':' ', 'top_mid':' ', 'top_right':' ',\n",
    "       'mid_left':' ', 'mid_mid':' ', 'mid_right':' ',\n",
    "       'bot_left':' ', 'bot_mid':' ', 'bot_right':' '}"
   ]
  },
  {
   "cell_type": "code",
   "execution_count": 2,
   "metadata": {
    "collapsed": false
   },
   "outputs": [],
   "source": [
    "def start_game():\n",
    "    print('Welcome to Tic Tac Toe!')\n",
    "    global player_1, player_2\n",
    "    player_1 = input('Player 1 (X) please enter your name: ')\n",
    "    player_2 = input('Player 2 (O) please enter your name: ')\n",
    "    \n",
    "    print('Please select an option:')\n",
    "    print('B: Begin game', 'I: See instructions', sep='\\n')\n",
    "    \n",
    "    while True:\n",
    "        user_option = input()\n",
    "        if user_option.lower() == 'i':\n",
    "            show_instructions()\n",
    "            break\n",
    "        elif user_option.lower() == 'b':\n",
    "            break\n",
    "        else:\n",
    "            print('Please select one of the listed options.')"
   ]
  },
  {
   "cell_type": "code",
   "execution_count": 3,
   "metadata": {
    "collapsed": true
   },
   "outputs": [],
   "source": [
    "def print_board(x,y,z):\n",
    "    \"\"\"Prints the current board.\"\"\"\n",
    "    board_row_sep = ['-','-','-','-','-']\n",
    "    \n",
    "    print(' '.join(x))\n",
    "    print(' '.join(board_row_sep))\n",
    "    print(' '.join(y))\n",
    "    print(' '.join(board_row_sep))\n",
    "    print(' '.join(z))"
   ]
  },
  {
   "cell_type": "code",
   "execution_count": 4,
   "metadata": {
    "collapsed": true
   },
   "outputs": [],
   "source": [
    "def show_instructions():\n",
    "    pass"
   ]
  },
  {
   "cell_type": "code",
   "execution_count": 5,
   "metadata": {
    "collapsed": true
   },
   "outputs": [],
   "source": [
    "def check_win_horizontal():\n",
    "    \"\"\"Checks whether or not the game has been won.\"\"\"\n",
    "    if pos['top_left'] == pos['top_mid'] and pos['top_mid'] == pos['top_right']:\n",
    "        if pos['top_left'] == 'X':\n",
    "            return 'X'\n",
    "        elif pos['top_left'] == 'O':\n",
    "            return 'O'\n",
    "    elif pos['mid_left'] == pos['mid_mid'] and pos['mid_mid'] == pos['mid_right']:\n",
    "        if pos['mid_left'] == 'X':\n",
    "            return 'X'\n",
    "        elif pos['mid_left'] == 'O':\n",
    "            return 'O'\n",
    "    elif pos['bot_left'] == pos['bot_mid'] and pos['bot_mid'] == pos['bot_right']:\n",
    "        if pos['bot_left'] == 'X':\n",
    "            return 'X'\n",
    "        elif pos['bot_left'] == 'O':\n",
    "            return 'O'"
   ]
  },
  {
   "cell_type": "code",
   "execution_count": 6,
   "metadata": {
    "collapsed": true
   },
   "outputs": [],
   "source": [
    "def check_win_vertical():\n",
    "    \"\"\"Checks whether or not the game has been won.\"\"\"\n",
    "    if pos['top_left'] == pos['mid_left'] and pos['mid_left'] == pos['bot_left']:\n",
    "        if pos['top_left'] == 'X':\n",
    "            return 'X'\n",
    "        elif pos['top_left'] == 'O':\n",
    "            return 'O'\n",
    "    elif pos['top_mid'] == pos['mid_mid'] and pos['mid_mid'] == pos['bot_mid']:\n",
    "        if pos['top_mid'] == 'X':\n",
    "            return 'X'\n",
    "        elif pos['top_mid'] == 'O':\n",
    "            return 'O'\n",
    "    elif pos['top_right'] == pos['mid_right'] and pos['mid_right'] == pos['bot_right']:\n",
    "        if pos['top_right'] == 'X':\n",
    "            return 'X'\n",
    "        elif pos['top_right'] == 'O':\n",
    "            return 'O'"
   ]
  },
  {
   "cell_type": "code",
   "execution_count": 7,
   "metadata": {
    "collapsed": true
   },
   "outputs": [],
   "source": [
    "def check_win_diagonal():\n",
    "    \"\"\"Checks whether or not the game has been won.\"\"\"\n",
    "    if pos['top_left'] == pos['mid_mid'] and pos['mid_mid'] == pos['bot_right']:\n",
    "        if pos['top_left'] == 'X':\n",
    "            return 'X'\n",
    "        elif pos['top_left'] == 'O':\n",
    "            return 'O'\n",
    "    elif pos['top_right'] == pos['mid_mid'] and pos['mid_mid'] == pos['bot_left']:\n",
    "        if pos['top_right'] == 'X':\n",
    "            return 'X'\n",
    "        elif pos['top_right'] == 'O':\n",
    "            return 'O'"
   ]
  },
  {
   "cell_type": "code",
   "execution_count": 8,
   "metadata": {
    "collapsed": true
   },
   "outputs": [],
   "source": [
    "def check_win():\n",
    "    if check_win_horizontal() == 'X':\n",
    "        return 'X'\n",
    "    elif check_win_horizontal() == 'O':\n",
    "        return 'O'\n",
    "    if check_win_vertical() == 'X':\n",
    "        return 'X'\n",
    "    elif check_win_vertical() == 'O':\n",
    "        return 'O'\n",
    "    if check_win_diagonal() == 'X':\n",
    "        return 'X'\n",
    "    elif check_win_diagonal() == 'O':\n",
    "        return 'O'\n",
    "    else:\n",
    "        return None"
   ]
  },
  {
   "cell_type": "code",
   "execution_count": 9,
   "metadata": {
    "collapsed": true
   },
   "outputs": [],
   "source": [
    "def check_out_of_moves():\n",
    "    if ' ' not in pos.values():\n",
    "        return True"
   ]
  },
  {
   "cell_type": "code",
   "execution_count": 10,
   "metadata": {
    "collapsed": true
   },
   "outputs": [],
   "source": [
    "def reset_game():\n",
    "    global pos\n",
    "    \n",
    "    pos = {'top_left':' ', 'top_mid':' ', 'top_right':' ',\n",
    "           'mid_left':' ', 'mid_mid':' ', 'mid_right':' ',\n",
    "           'bot_left':' ', 'bot_mid':' ', 'bot_right':' '}"
   ]
  },
  {
   "cell_type": "code",
   "execution_count": 11,
   "metadata": {
    "collapsed": false
   },
   "outputs": [],
   "source": [
    "def play_game():\n",
    "    global pos\n",
    "    \n",
    "    board_row_1 = [pos['top_left'],'|',pos['top_mid'],'|',pos['top_right']]\n",
    "    board_row_2 = [pos['mid_left'],'|',pos['mid_mid'],'|',pos['mid_right']]\n",
    "    board_row_3 = [pos['bot_left'],'|',pos['bot_mid'],'|',pos['bot_right']]\n",
    "    \n",
    "    print_board(board_row_1, board_row_2, board_row_3)\n",
    "    print()\n",
    "    \n",
    "    while True:\n",
    "        print('{}, please select your move.'.format(player_1))\n",
    "        available_moves = []\n",
    "        for key in pos:\n",
    "            if pos[key] == ' ':\n",
    "                available_moves.append(key)\n",
    "        avail_moves2 = sorted(available_moves)\n",
    "        print('Available moves: ' + ', '.join(avail_moves2))\n",
    "        while True:\n",
    "            player_move = input()\n",
    "            if player_move not in pos.keys():\n",
    "                print('Please select a valid move.')\n",
    "                continue\n",
    "\n",
    "            if pos[player_move] == ' ':\n",
    "                pos[player_move] = 'X'\n",
    "                break\n",
    "            else:\n",
    "                print('Please select a valid move.')\n",
    "\n",
    "        board_top = [pos['top_left'],'|',pos['top_mid'],'|',pos['top_right']]\n",
    "        board_mid = [pos['mid_left'],'|',pos['mid_mid'],'|',pos['mid_right']]\n",
    "        board_bot = [pos['bot_left'],'|',pos['bot_mid'],'|',pos['bot_right']]\n",
    "        print()\n",
    "        print_board(board_top, board_mid, board_bot)\n",
    "        print()\n",
    "        \n",
    "        if check_win() == 'X':\n",
    "            print('Congratulations {}, you have won the game!'.format(player_1))\n",
    "            break\n",
    "        elif check_win() == 'O':\n",
    "            print('Congratulations {}, you have won the game!'.format(player_2))\n",
    "            break\n",
    "        elif check_out_of_moves() == True:\n",
    "            print('The game is a tie!')\n",
    "            break\n",
    "        \n",
    "        print('{}, please select your move.'.format(player_2))\n",
    "        available_moves = []\n",
    "        for key in pos:\n",
    "            if pos[key] == ' ':\n",
    "                available_moves.append(key)\n",
    "        avail_moves2 = sorted(available_moves)\n",
    "        print('Available moves: ' + ', '.join(avail_moves2))\n",
    "        while True:\n",
    "            player_move = input()\n",
    "            if player_move not in pos.keys():\n",
    "                print('Please select a valid move.')\n",
    "                continue\n",
    "\n",
    "            if pos[player_move] == ' ':\n",
    "                pos[player_move] = 'O'\n",
    "                break\n",
    "            else:\n",
    "                print('Please select a valid move.')\n",
    "\n",
    "        board_top = [pos['top_left'],'|',pos['top_mid'],'|',pos['top_right']]\n",
    "        board_mid = [pos['mid_left'],'|',pos['mid_mid'],'|',pos['mid_right']]\n",
    "        board_bot = [pos['bot_left'],'|',pos['bot_mid'],'|',pos['bot_right']]\n",
    "        print()\n",
    "        print_board(board_top, board_mid, board_bot)\n",
    "        print()\n",
    "\n",
    "        if check_win() == 'X':\n",
    "            print('Congratulations {}, you have won the game!'.format(player_1))\n",
    "            break\n",
    "        elif check_win() == 'O':\n",
    "            print('Congratulations {}, you have won the game!'.format(player_2))\n",
    "            break\n",
    "        elif check_out_of_moves() == True:\n",
    "            print('The game is a tie!')\n",
    "            break\n",
    "\n",
    "    reset_game()"
   ]
  },
  {
   "cell_type": "code",
   "execution_count": 12,
   "metadata": {
    "collapsed": false
   },
   "outputs": [
    {
     "name": "stdout",
     "output_type": "stream",
     "text": [
      "Welcome to Tic Tac Toe!\n",
      "Player 1 (X) please enter your name: Simon\n",
      "Player 2 (O) please enter your name: Jerkface-asshole\n",
      "Please select an option:\n",
      "B: Begin game\n",
      "I: See instructions\n",
      "b\n"
     ]
    }
   ],
   "source": [
    "start_game()"
   ]
  },
  {
   "cell_type": "code",
   "execution_count": 14,
   "metadata": {
    "collapsed": false
   },
   "outputs": [
    {
     "name": "stdout",
     "output_type": "stream",
     "text": [
      "  |   |  \n",
      "- - - - -\n",
      "  |   |  \n",
      "- - - - -\n",
      "  |   |  \n",
      "\n",
      "Simon, please select your move.\n",
      "Available moves: bot_left, bot_mid, bot_right, mid_left, mid_mid, mid_right, top_left, top_mid, top_right\n",
      "top_left\n",
      "\n",
      "X |   |  \n",
      "- - - - -\n",
      "  |   |  \n",
      "- - - - -\n",
      "  |   |  \n",
      "\n",
      "Jerkface-asshole, please select your move.\n",
      "Available moves: bot_left, bot_mid, bot_right, mid_left, mid_mid, mid_right, top_mid, top_right\n",
      "top_mid\n",
      "\n",
      "X | O |  \n",
      "- - - - -\n",
      "  |   |  \n",
      "- - - - -\n",
      "  |   |  \n",
      "\n",
      "Simon, please select your move.\n",
      "Available moves: bot_left, bot_mid, bot_right, mid_left, mid_mid, mid_right, top_right\n",
      "top_right\n",
      "\n",
      "X | O | X\n",
      "- - - - -\n",
      "  |   |  \n",
      "- - - - -\n",
      "  |   |  \n",
      "\n",
      "Jerkface-asshole, please select your move.\n",
      "Available moves: bot_left, bot_mid, bot_right, mid_left, mid_mid, mid_right\n",
      "mid_left\n",
      "\n",
      "X | O | X\n",
      "- - - - -\n",
      "O |   |  \n",
      "- - - - -\n",
      "  |   |  \n",
      "\n",
      "Simon, please select your move.\n",
      "Available moves: bot_left, bot_mid, bot_right, mid_mid, mid_right\n",
      "bot_left\n",
      "\n",
      "X | O | X\n",
      "- - - - -\n",
      "O |   |  \n",
      "- - - - -\n",
      "X |   |  \n",
      "\n",
      "Jerkface-asshole, please select your move.\n",
      "Available moves: bot_mid, bot_right, mid_mid, mid_right\n",
      "bot_right\n",
      "\n",
      "X | O | X\n",
      "- - - - -\n",
      "O |   |  \n",
      "- - - - -\n",
      "X |   | O\n",
      "\n",
      "Simon, please select your move.\n",
      "Available moves: bot_mid, mid_mid, mid_right\n",
      "mid_right\n",
      "\n",
      "X | O | X\n",
      "- - - - -\n",
      "O |   | X\n",
      "- - - - -\n",
      "X |   | O\n",
      "\n",
      "Jerkface-asshole, please select your move.\n",
      "Available moves: bot_mid, mid_mid\n",
      "mid_mid\n",
      "\n",
      "X | O | X\n",
      "- - - - -\n",
      "O | O | X\n",
      "- - - - -\n",
      "X |   | O\n",
      "\n",
      "Simon, please select your move.\n",
      "Available moves: bot_mid\n",
      "bot_mid\n",
      "\n",
      "X | O | X\n",
      "- - - - -\n",
      "O | O | X\n",
      "- - - - -\n",
      "X | X | O\n",
      "\n",
      "The game is a tie!\n"
     ]
    }
   ],
   "source": [
    "play_game()"
   ]
  },
  {
   "cell_type": "code",
   "execution_count": 13,
   "metadata": {
    "collapsed": false,
    "scrolled": true
   },
   "outputs": [
    {
     "name": "stdout",
     "output_type": "stream",
     "text": [
      "{'top_left': ' ', 'bot_left': ' ', 'top_right': ' ', 'mid_right': ' ', 'top_mid': ' ', 'bot_right': ' ', 'mid_mid': ' ', 'bot_mid': ' ', 'mid_left': ' '}\n"
     ]
    }
   ],
   "source": [
    "print(pos)"
   ]
  },
  {
   "cell_type": "code",
   "execution_count": null,
   "metadata": {
    "collapsed": true
   },
   "outputs": [],
   "source": []
  }
 ],
 "metadata": {
  "kernelspec": {
   "display_name": "Python 3",
   "language": "python",
   "name": "python3"
  },
  "language_info": {
   "codemirror_mode": {
    "name": "ipython",
    "version": 3
   },
   "file_extension": ".py",
   "mimetype": "text/x-python",
   "name": "python",
   "nbconvert_exporter": "python",
   "pygments_lexer": "ipython3",
   "version": "3.4.3"
  }
 },
 "nbformat": 4,
 "nbformat_minor": 0
}
